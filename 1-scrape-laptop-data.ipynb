{
 "cells": [
  {
   "cell_type": "markdown",
   "id": "7a728ca0-e698-4d61-8cbd-3e284f12eae4",
   "metadata": {},
   "source": [
    "We need a catalog of available laptops to get started. \n",
    "* Kaggle has a dataset available but that dataset is sparse on actual specs for each. \n",
    "* Google shopping API has apparently been deprecated, there is `noteb.com` but that didn't work reliably. "
   ]
  },
  {
   "cell_type": "markdown",
   "id": "dda666a4-bcb0-42d7-90fd-ebd7690cc2a3",
   "metadata": {},
   "source": [
    "Product comparison websites do a good job of maintaining detailed specs. For ex, the website (https://www.91mobiles.com/laptopfinder.php) seems to have a good collection of laptop specs. This notebook scrapes that data using playwright, and the BeautifulSoup library. "
   ]
  },
  {
   "cell_type": "markdown",
   "id": "a219d45a-f45b-4d60-92e4-3c715791f223",
   "metadata": {
    "tags": []
   },
   "source": [
    "## Fetch the list of all available laptops (around 2k)"
   ]
  },
  {
   "cell_type": "code",
   "execution_count": 1,
   "id": "d1ab1873-3308-4752-aaa6-d20c18f5574b",
   "metadata": {},
   "outputs": [],
   "source": [
    "BASE_URL = \"https://www.91mobiles.com/laptopfinder.php\"\n",
    "data = []"
   ]
  },
  {
   "cell_type": "code",
   "execution_count": 2,
   "id": "db638af8-74d2-4272-b9c3-8376aff1a97c",
   "metadata": {},
   "outputs": [],
   "source": [
    "from playwright.async_api import async_playwright"
   ]
  },
  {
   "cell_type": "code",
   "execution_count": 3,
   "id": "a342732b-10d7-4978-b77d-29b77b996faa",
   "metadata": {},
   "outputs": [
    {
     "data": {
      "text/plain": [
       "<Response url='https://www.91mobiles.com/laptopfinder.php' request=<Request url='https://www.91mobiles.com/laptopfinder.php' method='GET'>>"
      ]
     },
     "execution_count": 3,
     "metadata": {},
     "output_type": "execute_result"
    }
   ],
   "source": [
    "p = await async_playwright().start()\n",
    "browser = await p.firefox.launch(headless=False)\n",
    "page = await browser.new_page()\n",
    "await page.goto(BASE_URL)"
   ]
  },
  {
   "cell_type": "code",
   "execution_count": 4,
   "id": "6f8eabdc-4c78-4dff-a528-9b53bdcf08a4",
   "metadata": {},
   "outputs": [],
   "source": [
    "await page.wait_for_selector(\"#promarketstatusmarketstatusavastores\")\n",
    "await page.click(\"#promarketstatusmarketstatusavastores\")"
   ]
  },
  {
   "cell_type": "code",
   "execution_count": 5,
   "id": "f6581637-2ff4-4aac-9d6e-26e52eaeb5be",
   "metadata": {
    "scrolled": true,
    "tags": []
   },
   "outputs": [
    {
     "name": "stdout",
     "output_type": "stream",
     "text": [
      "num iters: 1\n",
      "num iters: 2\n",
      "num iters: 3\n",
      "num iters: 4\n",
      "num iters: 5\n",
      "num iters: 6\n",
      "num iters: 7\n",
      "num iters: 8\n",
      "num iters: 9\n",
      "num iters: 10\n",
      "num iters: 11\n",
      "num iters: 12\n",
      "num iters: 13\n",
      "num iters: 14\n",
      "num iters: 15\n",
      "num iters: 16\n",
      "num iters: 17\n",
      "num iters: 18\n",
      "num iters: 19\n",
      "num iters: 20\n",
      "num iters: 21\n",
      "num iters: 22\n",
      "num iters: 23\n",
      "num iters: 24\n",
      "num iters: 25\n",
      "num iters: 26\n",
      "num iters: 27\n",
      "num iters: 28\n",
      "num iters: 29\n",
      "num iters: 30\n",
      "num iters: 31\n",
      "num iters: 32\n",
      "num iters: 33\n",
      "num iters: 34\n",
      "num iters: 35\n",
      "num iters: 36\n",
      "num iters: 37\n",
      "num iters: 38\n",
      "num iters: 39\n",
      "num iters: 40\n",
      "num iters: 41\n",
      "num iters: 42\n",
      "num iters: 43\n",
      "num iters: 44\n",
      "num iters: 45\n",
      "num iters: 46\n",
      "num iters: 47\n",
      "num iters: 48\n",
      "num iters: 49\n",
      "num iters: 50\n",
      "num iters: 51\n",
      "num iters: 52\n",
      "num iters: 53\n",
      "num iters: 54\n",
      "num iters: 55\n",
      "num iters: 56\n",
      "num iters: 57\n",
      "num iters: 58\n",
      "num iters: 59\n",
      "num iters: 60\n",
      "num iters: 61\n",
      "num iters: 62\n",
      "num iters: 63\n",
      "num iters: 64\n",
      "num iters: 65\n",
      "num iters: 66\n",
      "num iters: 67\n",
      "num iters: 68\n",
      "num iters: 69\n",
      "num iters: 70\n",
      "num iters: 71\n",
      "num iters: 72\n",
      "num iters: 73\n",
      "num iters: 74\n",
      "num iters: 75\n",
      "num iters: 76\n",
      "num iters: 77\n",
      "num iters: 78\n",
      "num iters: 79\n",
      "num iters: 80\n",
      "num iters: 81\n",
      "num iters: 82\n",
      "num iters: 83\n",
      "num iters: 84\n",
      "num iters: 85\n",
      "num iters: 86\n",
      "num iters: 87\n",
      "num iters: 88\n",
      "num iters: 89\n",
      "num iters: 90\n",
      "num iters: 91\n",
      "num iters: 92\n",
      "num iters: 93\n",
      "num iters: 94\n",
      "num iters: 95\n",
      "num iters: 96\n",
      "num iters: 97\n",
      "num iters: 98\n",
      "num iters: 99\n",
      "num iters: 100\n",
      "num iters: 101\n",
      "num iters: 102\n",
      "num iters: 103\n",
      "num iters: 104\n",
      "num iters: 105\n",
      "num iters: 106\n",
      "num iters: 107\n"
     ]
    }
   ],
   "source": [
    "iterations = 0\n",
    "while True:\n",
    "    await page.evaluate(\n",
    "        \"\"\"async () => {\n",
    "        for (let i = 0; i < document.body.scrollHeight; i += 100) {\n",
    "          window.scrollTo(0, i);\n",
    "        }\n",
    "    }\"\"\"\n",
    "    )\n",
    "    await page.wait_for_selector(\".title_ul > .finder_snipet_wrap\")\n",
    "    await page.wait_for_selector(\"#finder_pagination > div > div\")\n",
    "\n",
    "    nodes = await page.query_selector_all(\".title_ul > .finder_snipet_wrap\")\n",
    "    for node in nodes:\n",
    "        img = await node.query_selector(\".finder-image-box img\")\n",
    "        img_src = await img.get_attribute(\"src\")\n",
    "        img_title = await img.get_attribute(\"title\")\n",
    "\n",
    "        el_link = await node.query_selector(\"a\")\n",
    "        ref = await el_link.get_attribute(\"href\")\n",
    "        specs_link = f\"www.91mobiles.com/{ref}#specifications\"\n",
    "\n",
    "        data.append(\n",
    "            {\"title\": img_title, \"img\": img_src.strip(\"//\"), \"specs\": specs_link}\n",
    "        )\n",
    "\n",
    "    iterations += 1\n",
    "    print(f\"num iters: {iterations}\")\n",
    "\n",
    "    page_links = await page.query_selector_all(\"#finder_pagination > div > div\")\n",
    "    next_exists = False\n",
    "    for link in page_links:\n",
    "        text = await link.text_content()\n",
    "        if text.strip(\"\\n \").lower() == \"next\":\n",
    "            next_exists = True\n",
    "            break\n",
    "\n",
    "    if next_exists:\n",
    "        await page.evaluate(f\"submitPage('next', '{iterations + 1}')\")\n",
    "        await page.wait_for_timeout(1000)\n",
    "    else:\n",
    "        break"
   ]
  },
  {
   "cell_type": "code",
   "execution_count": 6,
   "id": "875c42b3-3b17-439f-9655-754502237d6f",
   "metadata": {},
   "outputs": [],
   "source": [
    "await browser.close()"
   ]
  },
  {
   "cell_type": "code",
   "execution_count": 7,
   "id": "65d098a4-1d48-4559-ad44-5fd40f9a834a",
   "metadata": {},
   "outputs": [],
   "source": [
    "import json\n",
    "\n",
    "with open(\"data/list_laptop_urls.jsonl\", \"w\") as f:\n",
    "    for d in data:\n",
    "        f.write(json.dumps(d) + \"\\n\")"
   ]
  },
  {
   "cell_type": "markdown",
   "id": "81940859-5ce0-4f9e-b24e-5539c76eda6c",
   "metadata": {
    "tags": []
   },
   "source": [
    "## Load the full specifications for each laptop now"
   ]
  },
  {
   "cell_type": "code",
   "execution_count": 1,
   "id": "7e3d7d93-9492-4462-9341-26fac2a23934",
   "metadata": {},
   "outputs": [],
   "source": [
    "import json\n",
    "\n",
    "list_laptops = []\n",
    "with open(\"data/list_laptop_urls.jsonl\", \"r\") as f:\n",
    "    for line in f:\n",
    "        list_laptops.append(json.loads(line))"
   ]
  },
  {
   "cell_type": "code",
   "execution_count": 2,
   "id": "93bc98ac-9b70-4db9-886f-4e6a9323c4ec",
   "metadata": {},
   "outputs": [],
   "source": [
    "import asyncio\n",
    "\n",
    "import httpx\n",
    "from bs4 import BeautifulSoup\n",
    "\n",
    "\n",
    "async def fetch_specs(client, laptop):\n",
    "    url = \"https://\" + laptop[\"specs\"]\n",
    "    try:\n",
    "        resp = await client.get(url)\n",
    "        soup = BeautifulSoup(resp, \"html.parser\")\n",
    "        info = {}\n",
    "        spec_boxes = soup.find_all(\"div\", class_=\"spec_box\")\n",
    "        for box in spec_boxes:\n",
    "            deets = {}\n",
    "            rows = box.find_all(\"tr\")\n",
    "            for row in rows:\n",
    "                key = row.find(\"td\", class_=\"spec_ttle\").text.strip()\n",
    "                val = row.find(\"td\", class_=\"spec_des\").text.strip()\n",
    "                deets[key] = val\n",
    "\n",
    "            catg = box.find(\"span\").text\n",
    "            info[catg.strip()] = deets\n",
    "\n",
    "        price_span = soup.find(\"div\", class_=\"price_div\").find(\n",
    "            \"span\", class_=\"big_prc\", attrs={\"itemprop\": \"price\"}\n",
    "        )\n",
    "        price = int(price_span.attrs[\"content\"])\n",
    "\n",
    "        ratingValue = soup.find(\"span\", {\"itemprop\": \"ratingValue\"}).attrs[\"content\"]\n",
    "        ratingCount = soup.find(\"span\", {\"itemprop\": \"ratingCount\"}).attrs[\"content\"]\n",
    "\n",
    "        img_el = soup.find(\"img\", {\"class\": \"overview_lrg_pic_img\", \"id\": \"mainImage\"})\n",
    "        return {\n",
    "            \"url_specs\": url,\n",
    "            \"url_img_small\": \"https://\" + laptop[\"img\"],\n",
    "            \"url_img_large\": \"https:\" + img_el.attrs[\"src\"],\n",
    "            \"title\": laptop[\"title\"],\n",
    "            \"specs\": info,\n",
    "            \"price\": price,\n",
    "            \"rating_value\": float(ratingValue.split(\"/\")[0]),\n",
    "            \"rating_count\": int(ratingCount),\n",
    "        }\n",
    "    except Exception as e:\n",
    "        print(\"failed: \" + laptop[\"title\"])\n",
    "        return {}"
   ]
  },
  {
   "cell_type": "code",
   "execution_count": 3,
   "id": "af5ed087-3983-40ad-9167-0c5846a3bb35",
   "metadata": {},
   "outputs": [],
   "source": [
    "def chunk(iterable, n):\n",
    "    out = []\n",
    "    i = 0\n",
    "    for el in iterable:\n",
    "        out.append(el)\n",
    "        i += 1\n",
    "        if i == n:\n",
    "            yield out\n",
    "            out = []\n",
    "            i = 0\n",
    "    yield out"
   ]
  },
  {
   "cell_type": "code",
   "execution_count": 1,
   "id": "cedd95b7-f31c-410f-8b99-3b4c41354992",
   "metadata": {
    "scrolled": true,
    "tags": []
   },
   "outputs": [],
   "source": [
    "list_specs = []\n",
    "\n",
    "async with httpx.AsyncClient() as client:\n",
    "    for i, laptops in enumerate(chunk(list_laptops, 100)):\n",
    "        tasks = []\n",
    "        for laptop in laptops:\n",
    "            tasks.append(asyncio.ensure_future(fetch_specs(client, laptop)))\n",
    "        list_specs.extend(await asyncio.gather(*tasks))\n",
    "#         print(\"iter finished\")\n",
    "        await asyncio.sleep(2)"
   ]
  },
  {
   "cell_type": "code",
   "execution_count": 5,
   "id": "70cfc92d-dd5e-41bf-aa86-65bae01cfd86",
   "metadata": {},
   "outputs": [],
   "source": [
    "import json\n",
    "\n",
    "with open(\"data/list_laptop_specs.jsonl\", \"w\") as f:\n",
    "    for row in list_specs:\n",
    "        if len(row) > 0:\n",
    "            f.write(json.dumps(row) + \"\\n\")"
   ]
  },
  {
   "cell_type": "code",
   "execution_count": 9,
   "id": "3a2d3aa5",
   "metadata": {},
   "outputs": [
    {
     "data": {
      "text/plain": [
       "1151"
      ]
     },
     "execution_count": 9,
     "metadata": {},
     "output_type": "execute_result"
    }
   ],
   "source": [
    "with open(\"data/list_laptop_specs.jsonl\", \"r\") as f:\n",
    "    rows = [json.loads(l) for l in f]\n",
    "len(rows)"
   ]
  },
  {
   "cell_type": "code",
   "execution_count": 10,
   "id": "d7818a44-ee4c-4c94-991b-e5d607f6efdc",
   "metadata": {},
   "outputs": [
    {
     "data": {
      "text/plain": [
       "{'url_specs': 'https://www.91mobiles.com//apple-m1-mgnd3hn-a-apple-m1-8-gb-256-gb-macos-big-sur-laptop-price-in-india-141587#specifications',\n",
       " 'url_img_small': 'https://www.91-img.com/pictures/laptops/apple/apple-m1-mgnd3hn-a-141587-v1-small-1.jpg?tr=q-80',\n",
       " 'url_img_large': 'https://www.91-img.com/pictures/laptops/apple/apple-m1-mgnd3hn-a-141587-v1-large-1.jpg?tr=q-80',\n",
       " 'title': 'Apple MacBook Air M1 MGND3HN/A Ultrabook (Apple M1/8 GB/256 GB SSD/macOS Big Sur)',\n",
       " 'specs': {'General Information': {'Brand': 'Apple',\n",
       "   'Model': 'M1 MGND3HN/A',\n",
       "   'Dimensions(WxHxD)': '304.1 x 212.4 x 10.9 \\xa0mm',\n",
       "   'Weight': '1.29 Kg',\n",
       "   'Colors': 'Gold',\n",
       "   'Operating System': 'macOS Big Sur'},\n",
       "  'Display Details': {'Display Size': '13.3 Inches (33.78 cm)',\n",
       "   'Display Resolution': '2560 x 1600 Pixels',\n",
       "   'Pixel Density': '227 ppi',\n",
       "   'Display Type': 'LED',\n",
       "   'Display Features': 'Quad LED Backlit IPS Display (227 PPI, 400 nits Brightness, Wide Colour (P3), True Tone Technology)',\n",
       "   'Display Touchscreen': 'No'},\n",
       "  'Performance': {'Processor': 'Apple M1'},\n",
       "  'Memory': {'Capacity': '8 GB',\n",
       "   'RAM type': 'DDR4',\n",
       "   'Memory Slots': '1',\n",
       "   'Memory Layout': '1x8 Gigabyte'},\n",
       "  'Storage': {'SSD Capacity': '256 GB'},\n",
       "  'Battery': {'Battery type': 'Li-Po',\n",
       "   'Power Supply': '30 W AC Adapter W',\n",
       "   'Battery Life': '15 Hrs'},\n",
       "  'Networking': {'Wireless LAN': '802.11 b/g/n/ax',\n",
       "   'Bluetooth': 'Yes',\n",
       "   'Bluetooth Version': '5.0'},\n",
       "  'Ports': {'Headphone Jack': 'Yes', 'Microphone Jack': 'Yes'},\n",
       "  'Multimedia': {'Web-cam': 'Yes',\n",
       "   'Video Recording': '720p HD',\n",
       "   'Secondary cam(Rear-facing)': 'No',\n",
       "   'Speakers': 'Built-in Speakers',\n",
       "   'Sound Technologies': 'Wide Stereo Sound, Support for Dolby Atmos Playback',\n",
       "   'In-built Microphone': 'Yes',\n",
       "   'Microphone Type': 'Three-mic Array with Directional Beamforming'},\n",
       "  'Peripherals': {'Optical Drive': 'No',\n",
       "   'Pointing Device': 'Touchpad with Multi-Touch Gestures Enabled',\n",
       "   'Keyboard': 'Magic Keyboard',\n",
       "   'Backlit Keyboard': 'Yes',\n",
       "   'Fingerprint Scanner': 'No'},\n",
       "  'Others': {'Warranty': '1 Year',\n",
       "   'Sales Package': 'Laptop, Battery, AC Adapter, User Guide'}},\n",
       " 'price': 90900,\n",
       " 'rating_value': 4.7,\n",
       " 'rating_count': 11912}"
      ]
     },
     "execution_count": 10,
     "metadata": {},
     "output_type": "execute_result"
    }
   ],
   "source": [
    "rows[0]"
   ]
  },
  {
   "cell_type": "code",
   "execution_count": null,
   "id": "679d73f4-9439-44bd-905c-7ddea2d2245c",
   "metadata": {},
   "outputs": [],
   "source": []
  }
 ],
 "metadata": {
  "kernelspec": {
   "display_name": "Python 3 (ipykernel)",
   "language": "python",
   "name": "python3"
  },
  "language_info": {
   "codemirror_mode": {
    "name": "ipython",
    "version": 3
   },
   "file_extension": ".py",
   "mimetype": "text/x-python",
   "name": "python",
   "nbconvert_exporter": "python",
   "pygments_lexer": "ipython3",
   "version": "3.9.5"
  },
  "vscode": {
   "interpreter": {
    "hash": "bee13da5dfd8cc2ab21d09493523ce7a17f20d31f50093ee24dd9a0766090f17"
   }
  }
 },
 "nbformat": 4,
 "nbformat_minor": 5
}
