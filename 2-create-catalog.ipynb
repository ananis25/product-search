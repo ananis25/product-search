{
 "cells": [
  {
   "cell_type": "markdown",
   "id": "90863437-ed9e-4f99-8ad1-9590ad19e6ca",
   "metadata": {},
   "source": [
    "To feed into the recommender system downstream, we gotta clean up the scraped laptop data and make it search-friendly. For ex, parsing numerical attributes into numbers, or some string values into categories. "
   ]
  },
  {
   "cell_type": "code",
   "execution_count": 1,
   "id": "6c0b132f-8166-4ac1-9042-b8a9790f53e2",
   "metadata": {},
   "outputs": [],
   "source": [
    "import json\n",
    "\n",
    "import pandas as pd"
   ]
  },
  {
   "cell_type": "code",
   "execution_count": 2,
   "id": "de5c3f88-b226-4402-b9a1-4bf279989295",
   "metadata": {},
   "outputs": [],
   "source": [
    "all_laptops = []\n",
    "with open(\"data/list_laptop_specs.jsonl\") as f:\n",
    "    for line in f:\n",
    "        all_laptops.append(json.loads(line))"
   ]
  },
  {
   "cell_type": "code",
   "execution_count": 3,
   "id": "4b638262-23dc-4781-97c6-5a77c049bfde",
   "metadata": {
    "scrolled": true,
    "tags": []
   },
   "outputs": [
    {
     "data": {
      "text/plain": [
       "{'url_specs': 'https://www.91mobiles.com//asus-k15-oled-km513ua-l502ts-amd-hexa-core-ryzen-5-8-gb-1-tb-windows-10-laptop-price-in-india-150494#specifications',\n",
       " 'url_img_small': 'https://www.91-img.com/pictures/laptops/asus/asus-k15-oled-km513ua-l502ts-150494-v1-small-1.jpg?tr=q-80',\n",
       " 'url_img_large': 'https://www.91-img.com/pictures/laptops/asus/asus-k15-oled-km513ua-l502ts-150494-v1-large-1.jpg?tr=q-80',\n",
       " 'title': 'Asus Vivobook K15 OLED KM513UA-L502TS Laptop (AMD Hexa Core Ryzen 5/8 GB/1 TB 256 GB SSD/Windows 10)',\n",
       " 'specs': {'General Information': {'Brand': 'Asus',\n",
       "   'Model': 'K15 OLED KM513UA-L502TS',\n",
       "   'Dimensions(WxHxD)': '459 x 290 x 64 \\xa0mm',\n",
       "   'Weight': '1.8 Kg',\n",
       "   'Colors': 'Black',\n",
       "   'Operating System': 'Windows 10 Home Basic'},\n",
       "  'Display Details': {'Display Size': '15.6 Inches (39.62 cm)',\n",
       "   'Display Resolution': '1920 x 1080 Pixels',\n",
       "   'Pixel Density': '141 ppi',\n",
       "   'Display Type': 'OLED',\n",
       "   'Display Features': 'NanoEdge display',\n",
       "   'Display Touchscreen': 'No'},\n",
       "  'Performance': {'Processor': 'AMD Hexa Core Ryzen 5-5500U',\n",
       "   'Clock-speed': '2.1 Ghz',\n",
       "   'Graphic Processor': 'AMD Radeon'},\n",
       "  'Memory': {'Capacity': '8 GB',\n",
       "   'RAM type': 'DDR4',\n",
       "   'Memory Slots': '1',\n",
       "   'Expandable Memory': '12 GB',\n",
       "   'Memory Layout': '1*8 Gigabyte'},\n",
       "  'Storage': {'HDD Capacity': '1 TB', 'SSD Capacity': '256 GB'},\n",
       "  'Battery': {'Battery type': 'Li-Ion',\n",
       "   'Power Supply': '65 W',\n",
       "   'Battery Life': '4 Hrs'},\n",
       "  'Networking': {'Wireless LAN': '802.11 a/b/g/n/ac'},\n",
       "  'Ports': {'USB 3.0 slots': '1',\n",
       "   'USB 2.0 slots': '2',\n",
       "   'Headphone Jack': 'Yes',\n",
       "   'Microphone Jack': 'Yes'},\n",
       "  'Multimedia': {'Web-cam': 'Yes',\n",
       "   'Video Recording': '720',\n",
       "   'Speakers': 'Built-in Speaker',\n",
       "   'In-built Microphone': 'Yes'},\n",
       "  'Others': {'Warranty': '1 Year',\n",
       "   'Sales Package': 'Laptop, Power Adaptor, User Guide, Warranty Documents'}},\n",
       " 'price': 59990,\n",
       " 'rating_value': 4.6,\n",
       " 'rating_count': 193}"
      ]
     },
     "execution_count": 3,
     "metadata": {},
     "output_type": "execute_result"
    }
   ],
   "source": [
    "# a sample product\n",
    "all_laptops[100]"
   ]
  },
  {
   "cell_type": "markdown",
   "id": "8610040f-bf48-4ef6-b51c-a06a6810840f",
   "metadata": {
    "tags": []
   },
   "source": [
    "## Extract attributes"
   ]
  },
  {
   "cell_type": "markdown",
   "id": "b6158048-a4d4-4e9a-a7bf-84562ff35aef",
   "metadata": {},
   "source": [
    "The attribute values are stored in nested dictionaries, and any given key in the chain could be absent. \n",
    "\n",
    "We need a custom getter to return None if any of the keys is missing. "
   ]
  },
  {
   "cell_type": "code",
   "execution_count": 4,
   "id": "b992f03f-db4e-4368-b1a7-946a9b1bfddc",
   "metadata": {},
   "outputs": [],
   "source": [
    "def get_prop(row, *keys):\n",
    "    d = row\n",
    "    for key in keys:\n",
    "        if key in d:\n",
    "            d = d[key]\n",
    "        else:\n",
    "            return None\n",
    "    return d"
   ]
  },
  {
   "cell_type": "markdown",
   "id": "d2692cd4-59fb-42f8-a74a-b4b5165d10b6",
   "metadata": {},
   "source": [
    "#### Brand\n",
    "\n",
    "The product brand is an important criteria for buyers. "
   ]
  },
  {
   "cell_type": "code",
   "execution_count": 5,
   "id": "3cf68fdf-0a6b-4b3c-9cd1-17169c555d41",
   "metadata": {},
   "outputs": [
    {
     "data": {
      "text/plain": [
       "array(['Apple', 'Acer', 'HP', 'Asus', 'Realme', 'MSI', 'Infinix',\n",
       "       'Xiaomi', 'Lenovo', 'Nokia', 'Dell', 'Samsung', 'Avita', 'VAIO',\n",
       "       'Toshiba', 'Microsoft', 'Honor', 'RDP', 'Lava', 'LG', 'Nexstgo',\n",
       "       'Wipro', 'Micromax'], dtype=object)"
      ]
     },
     "execution_count": 5,
     "metadata": {},
     "output_type": "execute_result"
    }
   ],
   "source": [
    "def read_brand(row):\n",
    "    return get_prop(row, \"specs\", \"General Information\", \"Brand\")\n",
    "\n",
    "\n",
    "brands = [read_brand(d) for d in all_laptops]\n",
    "uniq_brands = pd.unique(brands)\n",
    "uniq_brands"
   ]
  },
  {
   "cell_type": "markdown",
   "id": "48c58e9c-7896-426c-b82a-986f549f544b",
   "metadata": {},
   "source": [
    "#### OS"
   ]
  },
  {
   "cell_type": "markdown",
   "id": "f6cd3b2b-183e-415c-83ee-b2165d500f3a",
   "metadata": {},
   "source": [
    "Operating system is another."
   ]
  },
  {
   "cell_type": "code",
   "execution_count": 6,
   "id": "0d6cd256-e193-4be9-9726-d03921770c2e",
   "metadata": {},
   "outputs": [
    {
     "data": {
      "text/plain": [
       "array(['macOS Big Sur', 'Windows 11 Home Basic', 'Windows 11',\n",
       "       'Windows 10 Home Basic', 'Google Chrome', 'macOS Sierra',\n",
       "       'macOS Monterey Home Basic', 'DOS', 'macOS Monterey', 'Windows 8',\n",
       "       'Windows 7 Home Basic', 'Windows 10 Professional',\n",
       "       'macOS Catalina', 'Linux', 'Windows 8.1', 'Windows 10',\n",
       "       'macOS Mojave', 'Windows 8 Professional',\n",
       "       'Windows 8.1 Professional'], dtype=object)"
      ]
     },
     "execution_count": 6,
     "metadata": {},
     "output_type": "execute_result"
    }
   ],
   "source": [
    "def read_os(row):\n",
    "    # The 64 bit vs 32 bit difference isn't relevant anymore\n",
    "    return get_prop(row, \"specs\", \"General Information\", \"Operating System\")\n",
    "\n",
    "\n",
    "oses = [read_os(d) for d in all_laptops]\n",
    "uniq_oses = pd.unique(oses)\n",
    "uniq_oses"
   ]
  },
  {
   "cell_type": "markdown",
   "id": "8c77d1bb-3c60-4b15-ad8d-477598267fc9",
   "metadata": {},
   "source": [
    "Different editions of the same OS (Windows 10 vs 11) will come up as different entities, which we want to group since users can update later."
   ]
  },
  {
   "cell_type": "code",
   "execution_count": 7,
   "id": "26d4a7ca-2a5a-4d5a-84a6-565e90d017d9",
   "metadata": {},
   "outputs": [
    {
     "data": {
      "text/plain": [
       "array(['MacOS', 'Windows', 'Chrome', 'Others', 'Linux'], dtype=object)"
      ]
     },
     "execution_count": 7,
     "metadata": {},
     "output_type": "execute_result"
    }
   ],
   "source": [
    "def read_os(row):\n",
    "    os = get_prop(row, \"specs\", \"General Information\", \"Operating System\")\n",
    "    if os is None:\n",
    "        return None\n",
    "    os = os.lower()\n",
    "    if \"windows\" in os:\n",
    "        return \"Windows\"\n",
    "    elif \"macos\" in os:\n",
    "        return \"MacOS\"\n",
    "    elif \"linux\" in os or \"ubuntu\" in os:\n",
    "        return \"Linux\"\n",
    "    elif \"chrome\" in os:\n",
    "        return \"Chrome\"\n",
    "    else:\n",
    "        return \"Others\"\n",
    "\n",
    "\n",
    "oses = [read_os(d) for d in all_laptops]\n",
    "uniq_oses = pd.unique(oses)\n",
    "uniq_oses"
   ]
  },
  {
   "cell_type": "markdown",
   "id": "1959061e-684d-413e-a49d-1a3ba8dac4f2",
   "metadata": {},
   "source": [
    "#### Weight"
   ]
  },
  {
   "cell_type": "code",
   "execution_count": 8,
   "id": "09a77524-ad90-40b8-baea-6eeb46094270",
   "metadata": {},
   "outputs": [
    {
     "data": {
      "text/plain": [
       "'2.15 Kg'"
      ]
     },
     "execution_count": 8,
     "metadata": {},
     "output_type": "execute_result"
    }
   ],
   "source": [
    "get_prop(all_laptops[1], \"specs\", \"General Information\", \"Weight\")"
   ]
  },
  {
   "cell_type": "markdown",
   "id": "98c33363-aa5e-4590-92fe-143b54c3a5e6",
   "metadata": {},
   "source": [
    "We will have to parse the weights into numerical values. "
   ]
  },
  {
   "cell_type": "code",
   "execution_count": 9,
   "id": "d42b1a4b-8819-4752-8705-5c606767f227",
   "metadata": {},
   "outputs": [
    {
     "data": {
      "text/plain": [
       "('2.15',)"
      ]
     },
     "execution_count": 9,
     "metadata": {},
     "output_type": "execute_result"
    }
   ],
   "source": [
    "import re\n",
    "\n",
    "re.match(r\"([\\d\\.]+)\\sKg\", \"2.15 Kg\").groups()"
   ]
  },
  {
   "cell_type": "code",
   "execution_count": 10,
   "id": "e2419be2-f01c-41c4-b129-7806f7ce42e8",
   "metadata": {},
   "outputs": [
    {
     "data": {
      "text/plain": [
       "1.7"
      ]
     },
     "execution_count": 10,
     "metadata": {},
     "output_type": "execute_result"
    }
   ],
   "source": [
    "def read_weight(row):\n",
    "    wt = get_prop(row, \"specs\", \"General Information\", \"Weight\")\n",
    "    if wt is None:\n",
    "        return None\n",
    "    else:\n",
    "        num = re.match(r\"([\\d\\.]+)\\sKg\", wt).groups()[0]\n",
    "        return float(num)\n",
    "\n",
    "\n",
    "read_weight(all_laptops[2])"
   ]
  },
  {
   "cell_type": "markdown",
   "id": "916a3c71-9083-4117-b5cc-72fa1c83e8b2",
   "metadata": {},
   "source": [
    "#### Display size"
   ]
  },
  {
   "cell_type": "markdown",
   "id": "7521daf1-265c-4230-abc8-ec2210815c91",
   "metadata": {},
   "source": [
    "Display size next. Check if the units being used are standard. "
   ]
  },
  {
   "cell_type": "code",
   "execution_count": 11,
   "id": "2da0ae2e-5744-4ac9-a91d-0dd5695ddb17",
   "metadata": {},
   "outputs": [],
   "source": [
    "# pd.unique(\n",
    "#     [get_prop(row, \"specs\", \"Display Details\", \"Display Size\") for row in all_laptops]\n",
    "# )"
   ]
  },
  {
   "cell_type": "markdown",
   "id": "b8e5b9e3-19bd-4408-8976-bed3967a5114",
   "metadata": {},
   "source": [
    "We can read the screen size in inches"
   ]
  },
  {
   "cell_type": "code",
   "execution_count": 12,
   "id": "12f120b4-7a10-4edd-9f52-302c63c7b4dd",
   "metadata": {},
   "outputs": [
    {
     "data": {
      "text/plain": [
       "array([13.3, 15.6, 14. , 17.3, 14.1, 11.6, 16.1, 16.6, 14.9, 16. , 15. ,\n",
       "       16.2, 12.3, 14.2, 13.4, 13. , 10. , 12.5, 13.5, 15.2])"
      ]
     },
     "execution_count": 12,
     "metadata": {},
     "output_type": "execute_result"
    }
   ],
   "source": [
    "def read_screen_size(row):\n",
    "    sz = get_prop(row, \"specs\", \"Display Details\", \"Display Size\")\n",
    "    if sz is None:\n",
    "        return None\n",
    "    else:\n",
    "        num = re.match(r\"([\\d\\.]+)\\sInches\", sz).groups()[0]\n",
    "        return float(num)\n",
    "\n",
    "\n",
    "pd.unique([read_screen_size(row) for row in all_laptops])"
   ]
  },
  {
   "cell_type": "markdown",
   "id": "cbc587a9-0216-473a-86b6-6f0ffbba4603",
   "metadata": {},
   "source": [
    "#### Display resolution"
   ]
  },
  {
   "cell_type": "markdown",
   "id": "16ec84c2-38d3-41f0-9fac-7ae903548af6",
   "metadata": {},
   "source": [
    "Next up is display resolution. "
   ]
  },
  {
   "cell_type": "code",
   "execution_count": 13,
   "id": "6f929f74-affe-443a-ac3c-0774bb240161",
   "metadata": {},
   "outputs": [],
   "source": [
    "# pd.unique(\n",
    "#     [\n",
    "#         get_prop(row, \"specs\", \"Display Details\", \"Display Resolution\")\n",
    "#         for row in all_laptops\n",
    "#     ]\n",
    "# )"
   ]
  },
  {
   "cell_type": "code",
   "execution_count": 14,
   "id": "c8e5b446-b056-4ee1-abee-b735531b313c",
   "metadata": {},
   "outputs": [
    {
     "data": {
      "text/plain": [
       "array([(2560, 1600), (1920, 1080), (2160, 1440), (1366, 768),\n",
       "       (2880, 1800), (2560, 1440), (1440, 900), (1920, 1200),\n",
       "       (3456, 2234), (2736, 1824), (2256, 1504), (3000, 2000),\n",
       "       (1800, 1200), (2240, 1400), (1920, 1280), (3840, 2160),\n",
       "       (2496, 1664), (1600, 900), (3840, 2400), (3200, 1800), (1280, 800)],\n",
       "      dtype=object)"
      ]
     },
     "execution_count": 14,
     "metadata": {},
     "output_type": "execute_result"
    }
   ],
   "source": [
    "def read_resolution(row):\n",
    "    res = get_prop(row, \"specs\", \"Display Details\", \"Display Resolution\")\n",
    "    if res is None:\n",
    "        return None\n",
    "    else:\n",
    "        nums = re.match(r\"(\\d+)\\sx\\s(\\d+)\", res)\n",
    "        if nums is None:\n",
    "            return None\n",
    "        else:\n",
    "            x = int(nums.groups()[0])\n",
    "            y = int(nums.groups()[1])\n",
    "            return (x, y)\n",
    "\n",
    "\n",
    "pd.unique([read_resolution(r) for r in all_laptops])"
   ]
  },
  {
   "cell_type": "markdown",
   "id": "e6cd1a32-f647-4cf7-9921-823e2405cd6b",
   "metadata": {},
   "source": [
    "#### Processor"
   ]
  },
  {
   "cell_type": "code",
   "execution_count": 15,
   "id": "85e740ca-cd02-460f-97c8-2fb3b92523cd",
   "metadata": {
    "scrolled": true,
    "tags": []
   },
   "outputs": [],
   "source": [
    "# pd.unique([get_prop(r, \"specs\", \"Performance\", \"Processor\") for r in all_laptops])"
   ]
  },
  {
   "cell_type": "markdown",
   "id": "541b0e2d-9d08-4eac-b1aa-1c0660466ee8",
   "metadata": {},
   "source": [
    "The dominant brands seem to be Intel and AMD, besides Apple's own chips. We could bunch them together. "
   ]
  },
  {
   "cell_type": "code",
   "execution_count": 16,
   "id": "ac0eccd4-03ea-4430-abef-3b1294e4cde9",
   "metadata": {},
   "outputs": [
    {
     "data": {
      "text/plain": [
       "array(['Apple chip', 'AMD', 'Intel', 'Others'], dtype=object)"
      ]
     },
     "execution_count": 16,
     "metadata": {},
     "output_type": "execute_result"
    }
   ],
   "source": [
    "def read_processor(row):\n",
    "    proc = get_prop(row, \"specs\", \"Performance\", \"Processor\")\n",
    "    if proc is None:\n",
    "        return None\n",
    "    proc = proc.lower()\n",
    "    if \"intel\" in proc:\n",
    "        return \"Intel\"\n",
    "    elif \"amd\" in proc:\n",
    "        return \"AMD\"\n",
    "    elif \"apple\" in proc:\n",
    "        return \"Apple chip\"\n",
    "    else:\n",
    "        return \"Others\"\n",
    "\n",
    "\n",
    "pd.unique([read_processor(r) for r in all_laptops])"
   ]
  },
  {
   "cell_type": "markdown",
   "id": "03c558a1-51c5-4c77-9b92-f2c871f9278d",
   "metadata": {},
   "source": [
    "#### GPU"
   ]
  },
  {
   "cell_type": "markdown",
   "id": "ad2e34b1-10a0-428a-9b15-71e35b865704",
   "metadata": {},
   "source": [
    "Whether a GPU is present or not is often a factor"
   ]
  },
  {
   "cell_type": "code",
   "execution_count": 17,
   "id": "ed4964f4-25ed-425c-b3ae-d337cdcb710f",
   "metadata": {
    "scrolled": true,
    "tags": []
   },
   "outputs": [
    {
     "data": {
      "text/plain": [
       "array([None, 'NVIDIA GeForce GTX 1650', 'AMD Radeon', 'Intel UHD',\n",
       "       'Intel Iris Xe Graphics', 'AMD Integrated',\n",
       "       'NVIDIA GeForce RTX 3050', 'Intel Iris Xe', 'AMD Radeon RX5500M',\n",
       "       'AMD Radeon RX 5500M', 'AMD Radeon RX Vega 10',\n",
       "       'NVIDIA Geforce GTX 1650', 'AMD Radeon RX 6600M',\n",
       "       'AMD Radeon Vega 6', 'Intel UHD 605', 'AMD Radeon Vega 8 Mobile',\n",
       "       'MediaTek Integrated Graphics', 'NVIDIA GeForce GTX 1650 Max Q',\n",
       "       'Intel UHD Graphics', 'Intel UHD 600', 'Intel Integrated',\n",
       "       'NVIDIA GeForce GTX 1650 Ti', 'NVIDIA GeForce GTX 1650 MAX Q',\n",
       "       'Intel Integrated UHD', 'Nvidia Geforce RTX 3050', 'Intel HD 500',\n",
       "       'NVIDIA GeForce RTX 3060', 'AMD Radeon Graphics',\n",
       "       'AMD Radeon Vega 8', 'PowerVR GX6250', 'Intel Integrated Graphics',\n",
       "       'NVIDIA GeForce RTX 3050 Ti', 'NVIDIA GeForce RTX 3070',\n",
       "       'NVIDIA GeForce RTX 2050', 'AMD Radeon R4', 'Intel Iris X',\n",
       "       'NVIDIA GeForce RTX 1650', 'Intel HD 6000', 'Apple M2 GPU',\n",
       "       'NVIDIA GeForce MX330', 'NVIDIA GeForce MX550',\n",
       "       'NVIDIA GeForce MX450', 'NVIDIA Geforce GTX 1650 Ti',\n",
       "       'AMD Radeon RX 6800M', 'NVIDIA GeForce MX250', 'Apple M1 GPU',\n",
       "       'Intel HD 3000', 'NVIDIA GeForce MX130', 'AMD Radeon R2',\n",
       "       'NVIDIA Geforce MX350', 'AMD Radeon Vega',\n",
       "       'NVIDIA GeForce GTX 1050', 'NVIDIA Geforce GTX 1050',\n",
       "       'Intel Iris Plus', 'NVIDIA Geforce GTX 1650 Max-Q', 'Intel HD 400',\n",
       "       'NVIDIA GeForce GTX 1650ti', 'AMD Radeon RX 6650M', 'Intel HD 520',\n",
       "       'NVIDIA Geforce GTX 1660 Ti', 'Intel UHD 615',\n",
       "       'NVIDIA GeForce GTX 1650 Ti Max-Q', 'Intel HD',\n",
       "       'NVIDIA Geforce RTX 2060', 'AMD Radeon UHD', 'AMD Radeon Vega 3',\n",
       "       'Intel UHD 620', 'NVIDIA Geforce MX330', 'NVIDIA GeForce MX350',\n",
       "       'Intel Integrated MX350', 'Intel HD 620', 'AMD Radeon RX 560X',\n",
       "       'i', 'AMD Radeon 520', 'Intel HD 615', 'AMD Radeon 530',\n",
       "       'NVIDIA Geforce GTX 1050Ti', 'Intel HD Graphics', 'Intel HD 505',\n",
       "       'NVIDIA GeForce RTX 2060', 'NVIDIA Geforce MX450',\n",
       "       'NVIDIA Geforce MX130', 'Intel Iris Plus 640',\n",
       "       'NVIDIA GeForce MX150', 'Intel Iris', 'NVIDIA GeForce MX230',\n",
       "       'ATI EXO PRO R5 M330', 'NVIDIA GeForce RTX 3070 Ti',\n",
       "       'NVIDIA GeForce', 'NVIDIA GeForce N16S-GTR',\n",
       "       'NVIDIA Geforce MX150', 'Intel HD 630', 'AMD Radeon R7',\n",
       "       'AMD Radeon Vega 9', 'Intel Iris Plus 655', 'AMD Radeon 430',\n",
       "       'NVIDIA GeForce GTX 1060', 'NVIDIA GeForce GTX 1050Ti',\n",
       "       'NVIDIA GeForce GTX 1660 Ti', 'AMD Radeon R3', 'Intel HD 4000',\n",
       "       'NVIDIA GeForce 920MX', 'Intel HD 4400', 'HD Graphics 5300',\n",
       "       'AMD Radeon RX 640', 'NVIDIA GeForce 820M',\n",
       "       'NVIDIA Geforce GTX 1650 Ti with Max-Q Design',\n",
       "       'NVIDIA Geforce MX110', 'NVIDIA GeForce GT 940MX',\n",
       "       'NVIDIA Geforce GTX 1650Ti', 'AMD Radeon RX Vega M GL',\n",
       "       'NVIDIA Geforce RTX 2070 Max-Q', 'NVIDIA Geforce GTX 1650 TI',\n",
       "       'NVIDIA GeForce RTX 2070', 'NVIDIA GeForce 940MX',\n",
       "       'NVIDIA GeForce N16V-GMR1', 'Intel HD Graphics 520'], dtype=object)"
      ]
     },
     "execution_count": 17,
     "metadata": {},
     "output_type": "execute_result"
    }
   ],
   "source": [
    "pd.unique(\n",
    "    [get_prop(row, \"specs\", \"Performance\", \"Graphic Processor\") for row in all_laptops]\n",
    ")"
   ]
  },
  {
   "cell_type": "code",
   "execution_count": 18,
   "id": "4b24fc65-7d39-44ba-9567-55b0b5c720fa",
   "metadata": {},
   "outputs": [
    {
     "data": {
      "text/plain": [
       "array([(None, None), ('NVIDIA', 4), ('AMD', None), ('Integrated', None),\n",
       "       ('AMD', 4), ('AMD', 8), ('NVIDIA', 6), ('NVIDIA', 8),\n",
       "       ('NVIDIA', None), ('NVIDIA', 2), ('AMD', 12), ('NVIDIA', 3),\n",
       "       ('AMD', 2)], dtype=object)"
      ]
     },
     "execution_count": 18,
     "metadata": {},
     "output_type": "execute_result"
    }
   ],
   "source": [
    "def read_gpu(row):\n",
    "    gpu = get_prop(row, \"specs\", \"Performance\", \"Graphic Processor\")\n",
    "    if gpu is None:\n",
    "        return (None, None)\n",
    "    gpu = gpu.lower()\n",
    "    if \"nvidia\" in gpu or (\"amd\" in gpu and \"integrated\" not in gpu):\n",
    "        sz = get_prop(row, \"specs\", \"Performance\", \"Graphics Memory\")\n",
    "        brand = \"NVIDIA\" if \"nvidia\" in gpu else \"AMD\"\n",
    "        if sz is not None:\n",
    "            val = re.match(r\"(\\d+)\", sz)\n",
    "            if val is not None:\n",
    "                sz = int(val.groups()[0])\n",
    "        return (brand, sz)\n",
    "    else:\n",
    "        return (\"Integrated\", None)\n",
    "\n",
    "\n",
    "pd.unique([read_gpu(r) for r in all_laptops])"
   ]
  },
  {
   "cell_type": "markdown",
   "id": "10dabd82-2c46-44e2-8fe9-ab288de387ba",
   "metadata": {},
   "source": [
    "#### Battery"
   ]
  },
  {
   "cell_type": "markdown",
   "id": "2b390c9f-4890-487d-94f8-364f5752e1a4",
   "metadata": {},
   "source": [
    "Battery life next. Lets look at values in the dataset for available numbers. "
   ]
  },
  {
   "cell_type": "code",
   "execution_count": 19,
   "id": "15146f00-f96c-430b-8473-20cd7755afd3",
   "metadata": {},
   "outputs": [
    {
     "data": {
      "text/plain": [
       "array(['15 Hrs', None, '7 Hrs', '6 Hrs', '4 Hrs', '11 Hrs', '12 Hrs',\n",
       "       '10 Hrs', '8 Hrs', '9.45 Hrs', '9 Hrs', '7.15 Hrs', '13 Hrs',\n",
       "       '9.30 Hrs', '9.3 Hrs', '14 Hrs', '3 Hrs', '18 Hrs', '9.5 Hrs',\n",
       "       '5 Hrs', '9.29 Hrs', '10.8 Hrs', '20 Hrs', '7.5 Hrs', '11.5 Hrs',\n",
       "       '9.15 Hrs', '8.5 Hrs', '21 Hrs', '12.5 Hrs', '6.5 Hrs', '10.5 Hrs',\n",
       "       '6.7 Hrs', '13.5 Hrs', '8.45 Hrs', '17 Hrs', '11.1 Hrs', '19 Hrs',\n",
       "       '16.5 Hrs', '8.4 Hrs', '5.5 Hrs', '15.5 Hrs', '25 Hrs'],\n",
       "      dtype=object)"
      ]
     },
     "execution_count": 19,
     "metadata": {},
     "output_type": "execute_result"
    }
   ],
   "source": [
    "pd.unique([get_prop(r, \"specs\", \"Battery\", \"Battery Life\") for r in all_laptops])"
   ]
  },
  {
   "cell_type": "markdown",
   "id": "074072a6-164d-4af1-8599-c8f8b096a615",
   "metadata": {
    "tags": []
   },
   "source": [
    "In some cases only the num of battery cells is mentioned. "
   ]
  },
  {
   "cell_type": "code",
   "execution_count": 20,
   "id": "a7e99236-eb4c-47dc-a195-17737f1f5090",
   "metadata": {
    "tags": []
   },
   "outputs": [
    {
     "data": {
      "text/plain": [
       "array([None, '3 Cell', '2 Cell', '4 Cell', '6 Cell', '8 Cell',\n",
       "       '4 Cell Cell', '6 Cell Cell'], dtype=object)"
      ]
     },
     "execution_count": 20,
     "metadata": {},
     "output_type": "execute_result"
    }
   ],
   "source": [
    "pd.unique([get_prop(r, \"specs\", \"Battery\", \"Battery Cell\") for r in all_laptops])"
   ]
  },
  {
   "cell_type": "markdown",
   "id": "dc0ee785-1e65-408f-b480-5f0bb706902e",
   "metadata": {},
   "source": [
    "To get a normalised score across all laptops, we could learn the relationship between the two."
   ]
  },
  {
   "cell_type": "code",
   "execution_count": 21,
   "id": "87b85754-2115-47f1-9f9f-b787d433eeb0",
   "metadata": {},
   "outputs": [
    {
     "data": {
      "text/html": [
       "\n",
       "<div id=\"altair-viz-c269a1c14ea74a8d9f486db9eee6c88c\"></div>\n",
       "<script type=\"text/javascript\">\n",
       "  var VEGA_DEBUG = (typeof VEGA_DEBUG == \"undefined\") ? {} : VEGA_DEBUG;\n",
       "  (function(spec, embedOpt){\n",
       "    let outputDiv = document.currentScript.previousElementSibling;\n",
       "    if (outputDiv.id !== \"altair-viz-c269a1c14ea74a8d9f486db9eee6c88c\") {\n",
       "      outputDiv = document.getElementById(\"altair-viz-c269a1c14ea74a8d9f486db9eee6c88c\");\n",
       "    }\n",
       "    const paths = {\n",
       "      \"vega\": \"https://cdn.jsdelivr.net/npm//vega@5?noext\",\n",
       "      \"vega-lib\": \"https://cdn.jsdelivr.net/npm//vega-lib?noext\",\n",
       "      \"vega-lite\": \"https://cdn.jsdelivr.net/npm//vega-lite@4.17.0?noext\",\n",
       "      \"vega-embed\": \"https://cdn.jsdelivr.net/npm//vega-embed@6?noext\",\n",
       "    };\n",
       "\n",
       "    function maybeLoadScript(lib, version) {\n",
       "      var key = `${lib.replace(\"-\", \"\")}_version`;\n",
       "      return (VEGA_DEBUG[key] == version) ?\n",
       "        Promise.resolve(paths[lib]) :\n",
       "        new Promise(function(resolve, reject) {\n",
       "          var s = document.createElement('script');\n",
       "          document.getElementsByTagName(\"head\")[0].appendChild(s);\n",
       "          s.async = true;\n",
       "          s.onload = () => {\n",
       "            VEGA_DEBUG[key] = version;\n",
       "            return resolve(paths[lib]);\n",
       "          };\n",
       "          s.onerror = () => reject(`Error loading script: ${paths[lib]}`);\n",
       "          s.src = paths[lib];\n",
       "        });\n",
       "    }\n",
       "\n",
       "    function showError(err) {\n",
       "      outputDiv.innerHTML = `<div class=\"error\" style=\"color:red;\">${err}</div>`;\n",
       "      throw err;\n",
       "    }\n",
       "\n",
       "    function displayChart(vegaEmbed) {\n",
       "      vegaEmbed(outputDiv, spec, embedOpt)\n",
       "        .catch(err => showError(`Javascript Error: ${err.message}<br>This usually means there's a typo in your chart specification. See the javascript console for the full traceback.`));\n",
       "    }\n",
       "\n",
       "    if(typeof define === \"function\" && define.amd) {\n",
       "      requirejs.config({paths});\n",
       "      require([\"vega-embed\"], displayChart, err => showError(`Error loading script: ${err.message}`));\n",
       "    } else {\n",
       "      maybeLoadScript(\"vega\", \"5\")\n",
       "        .then(() => maybeLoadScript(\"vega-lite\", \"4.17.0\"))\n",
       "        .then(() => maybeLoadScript(\"vega-embed\", \"6\"))\n",
       "        .catch(showError)\n",
       "        .then(() => displayChart(vegaEmbed));\n",
       "    }\n",
       "  })({\"config\": {\"view\": {\"continuousWidth\": 400, \"continuousHeight\": 300}}, \"data\": {\"values\": [{\"cells\": 3.0, \"life\": 7.0}, {\"cells\": 2.0, \"life\": 6.0}, {\"cells\": 3.0, \"life\": 4.0}, {\"cells\": 3.0, \"life\": 12.0}, {\"cells\": 3.0, \"life\": 12.0}, {\"cells\": 3.0, \"life\": 7.0}, {\"cells\": 4.0, \"life\": 10.0}, {\"cells\": 3.0, \"life\": 8.0}, {\"cells\": 3.0, \"life\": 9.4}, {\"cells\": 3.0, \"life\": 10.0}, {\"cells\": 3.0, \"life\": 9.0}, {\"cells\": 3.0, \"life\": 11.0}, {\"cells\": 3.0, \"life\": 7.1}, {\"cells\": 2.0, \"life\": 6.0}, {\"cells\": 3.0, \"life\": 9.3}, {\"cells\": 3.0, \"life\": 11.0}, {\"cells\": 3.0, \"life\": 7.1}, {\"cells\": 2.0, \"life\": 6.0}, {\"cells\": 3.0, \"life\": 9.3}, {\"cells\": 3.0, \"life\": 9.0}, {\"cells\": 3.0, \"life\": 7.0}, {\"cells\": 3.0, \"life\": 7.0}, {\"cells\": 3.0, \"life\": 10.0}, {\"cells\": 2.0, \"life\": 8.0}, {\"cells\": 3.0, \"life\": 10.0}, {\"cells\": 2.0, \"life\": 6.0}, {\"cells\": 3.0, \"life\": 12.0}, {\"cells\": 3.0, \"life\": 8.0}, {\"cells\": 4.0, \"life\": 8.0}, {\"cells\": 3.0, \"life\": 9.3}, {\"cells\": 2.0, \"life\": 15.0}, {\"cells\": 2.0, \"life\": 6.0}, {\"cells\": 3.0, \"life\": 10.0}, {\"cells\": 2.0, \"life\": 6.0}, {\"cells\": 2.0, \"life\": 14.0}, {\"cells\": 3.0, \"life\": 9.0}, {\"cells\": 3.0, \"life\": 10.0}, {\"cells\": 3.0, \"life\": 9.0}, {\"cells\": 3.0, \"life\": 6.0}, {\"cells\": 2.0, \"life\": 6.0}, {\"cells\": 3.0, \"life\": 7.0}, {\"cells\": 3.0, \"life\": 12.0}, {\"cells\": 3.0, \"life\": 10.0}, {\"cells\": 4.0, \"life\": 12.0}, {\"cells\": 3.0, \"life\": 9.0}, {\"cells\": 2.0, \"life\": 11.0}, {\"cells\": 3.0, \"life\": 11.0}, {\"cells\": 4.0, \"life\": 7.0}, {\"cells\": 2.0, \"life\": 8.0}, {\"cells\": 3.0, \"life\": 6.0}, {\"cells\": 3.0, \"life\": 6.0}, {\"cells\": 4.0, \"life\": 12.0}, {\"cells\": 3.0, \"life\": 11.0}, {\"cells\": 4.0, \"life\": 18.0}, {\"cells\": 2.0, \"life\": 9.0}, {\"cells\": 3.0, \"life\": 7.0}, {\"cells\": 3.0, \"life\": 6.0}, {\"cells\": 3.0, \"life\": 9.5}, {\"cells\": 3.0, \"life\": 10.0}, {\"cells\": 2.0, \"life\": 3.0}, {\"cells\": 2.0, \"life\": 8.0}, {\"cells\": 2.0, \"life\": 5.0}, {\"cells\": 3.0, \"life\": 10.0}, {\"cells\": 4.0, \"life\": 6.0}, {\"cells\": 3.0, \"life\": 9.5}, {\"cells\": 3.0, \"life\": 9.0}, {\"cells\": 4.0, \"life\": 9.2}, {\"cells\": 3.0, \"life\": 12.0}, {\"cells\": 4.0, \"life\": 6.0}, {\"cells\": 3.0, \"life\": 10.0}, {\"cells\": 3.0, \"life\": 10.0}, {\"cells\": 3.0, \"life\": 4.0}, {\"cells\": 3.0, \"life\": 10.0}, {\"cells\": 3.0, \"life\": 10.0}, {\"cells\": 3.0, \"life\": 4.0}, {\"cells\": 3.0, \"life\": 10.0}, {\"cells\": 3.0, \"life\": 10.0}, {\"cells\": 3.0, \"life\": 4.0}, {\"cells\": 3.0, \"life\": 10.0}, {\"cells\": 3.0, \"life\": 10.0}, {\"cells\": 3.0, \"life\": 4.0}, {\"cells\": 3.0, \"life\": 10.8}, {\"cells\": 3.0, \"life\": 7.5}, {\"cells\": 3.0, \"life\": 8.0}, {\"cells\": 4.0, \"life\": 10.0}, {\"cells\": 3.0, \"life\": 12.0}, {\"cells\": 4.0, \"life\": 4.0}, {\"cells\": 3.0, \"life\": 6.0}, {\"cells\": 3.0, \"life\": 9.1}, {\"cells\": 3.0, \"life\": 8.5}, {\"cells\": 3.0, \"life\": 10.0}, {\"cells\": 3.0, \"life\": 12.0}, {\"cells\": 4.0, \"life\": 9.0}, {\"cells\": 3.0, \"life\": 10.0}, {\"cells\": 3.0, \"life\": 10.0}, {\"cells\": 6.0, \"life\": 3.0}, {\"cells\": 3.0, \"life\": 8.0}, {\"cells\": 3.0, \"life\": 8.0}, {\"cells\": 6.0, \"life\": 12.5}, {\"cells\": 4.0, \"life\": 10.0}, {\"cells\": 3.0, \"life\": 6.0}, {\"cells\": 3.0, \"life\": 8.0}, {\"cells\": 6.0, \"life\": 3.0}, {\"cells\": 3.0, \"life\": 8.0}, {\"cells\": 3.0, \"life\": 8.0}, {\"cells\": 6.0, \"life\": 12.5}, {\"cells\": 4.0, \"life\": 10.0}, {\"cells\": 3.0, \"life\": 6.0}, {\"cells\": 3.0, \"life\": 8.0}, {\"cells\": 2.0, \"life\": 7.5}, {\"cells\": 2.0, \"life\": 11.0}, {\"cells\": 4.0, \"life\": 10.0}, {\"cells\": 3.0, \"life\": 6.0}, {\"cells\": 6.0, \"life\": 3.0}, {\"cells\": 2.0, \"life\": 5.0}, {\"cells\": 3.0, \"life\": 6.0}, {\"cells\": 3.0, \"life\": 5.0}, {\"cells\": 3.0, \"life\": 7.0}, {\"cells\": 3.0, \"life\": 10.8}, {\"cells\": 3.0, \"life\": 10.0}, {\"cells\": 6.0, \"life\": 14.0}, {\"cells\": 2.0, \"life\": 6.5}, {\"cells\": 3.0, \"life\": 10.0}, {\"cells\": 3.0, \"life\": 7.0}, {\"cells\": 3.0, \"life\": 7.0}, {\"cells\": 4.0, \"life\": 6.0}, {\"cells\": 3.0, \"life\": 18.0}, {\"cells\": 3.0, \"life\": 10.0}, {\"cells\": 2.0, \"life\": 11.0}, {\"cells\": 3.0, \"life\": 8.0}, {\"cells\": 3.0, \"life\": 12.0}, {\"cells\": 4.0, \"life\": 12.0}, {\"cells\": 2.0, \"life\": 5.0}, {\"cells\": 3.0, \"life\": 12.0}, {\"cells\": 3.0, \"life\": 10.0}, {\"cells\": 4.0, \"life\": 15.0}, {\"cells\": 2.0, \"life\": 8.0}, {\"cells\": 3.0, \"life\": 10.0}, {\"cells\": 3.0, \"life\": 13.5}, {\"cells\": 3.0, \"life\": 7.0}, {\"cells\": 3.0, \"life\": 7.0}, {\"cells\": 3.0, \"life\": 10.0}, {\"cells\": 3.0, \"life\": 10.0}, {\"cells\": 3.0, \"life\": 10.0}, {\"cells\": 2.0, \"life\": 8.0}, {\"cells\": 6.0, \"life\": 10.0}, {\"cells\": 6.0, \"life\": 4.0}, {\"cells\": 6.0, \"life\": 9.0}, {\"cells\": 3.0, \"life\": 8.5}, {\"cells\": 2.0, \"life\": 11.0}, {\"cells\": 4.0, \"life\": 11.0}, {\"cells\": 3.0, \"life\": 8.0}, {\"cells\": 3.0, \"life\": 6.0}, {\"cells\": 3.0, \"life\": 11.0}, {\"cells\": 6.0, \"life\": 8.0}, {\"cells\": 3.0, \"life\": 4.0}, {\"cells\": 3.0, \"life\": 10.0}, {\"cells\": 3.0, \"life\": 10.0}, {\"cells\": 3.0, \"life\": 6.0}, {\"cells\": 3.0, \"life\": 8.0}, {\"cells\": 3.0, \"life\": 10.0}, {\"cells\": 3.0, \"life\": 8.4}, {\"cells\": 3.0, \"life\": 10.0}, {\"cells\": 4.0, \"life\": 11.0}, {\"cells\": 2.0, \"life\": 7.0}, {\"cells\": 3.0, \"life\": 6.0}, {\"cells\": 3.0, \"life\": 6.0}, {\"cells\": 3.0, \"life\": 7.0}, {\"cells\": 3.0, \"life\": 7.0}, {\"cells\": 3.0, \"life\": 8.0}, {\"cells\": 4.0, \"life\": 8.0}, {\"cells\": 4.0, \"life\": 12.0}, {\"cells\": 4.0, \"life\": 17.0}, {\"cells\": 3.0, \"life\": 10.0}, {\"cells\": 3.0, \"life\": 10.0}, {\"cells\": 3.0, \"life\": 6.0}, {\"cells\": 2.0, \"life\": 9.0}, {\"cells\": 3.0, \"life\": 12.0}, {\"cells\": 3.0, \"life\": 11.1}, {\"cells\": 3.0, \"life\": 8.0}, {\"cells\": 3.0, \"life\": 7.0}, {\"cells\": 3.0, \"life\": 7.0}, {\"cells\": 2.0, \"life\": 6.0}, {\"cells\": 3.0, \"life\": 10.0}, {\"cells\": 4.0, \"life\": 6.0}, {\"cells\": 3.0, \"life\": 8.0}, {\"cells\": 3.0, \"life\": 7.0}, {\"cells\": 3.0, \"life\": 7.0}, {\"cells\": 2.0, \"life\": 6.0}, {\"cells\": 3.0, \"life\": 10.0}, {\"cells\": 4.0, \"life\": 6.0}, {\"cells\": 6.0, \"life\": 12.5}, {\"cells\": 3.0, \"life\": 7.0}, {\"cells\": 4.0, \"life\": 10.0}, {\"cells\": 4.0, \"life\": 8.0}, {\"cells\": 4.0, \"life\": 8.0}, {\"cells\": 3.0, \"life\": 10.0}, {\"cells\": 3.0, \"life\": 7.0}, {\"cells\": 3.0, \"life\": 10.0}, {\"cells\": 3.0, \"life\": 10.0}, {\"cells\": 4.0, \"life\": 9.0}, {\"cells\": 2.0, \"life\": 11.0}, {\"cells\": 3.0, \"life\": 6.5}, {\"cells\": 2.0, \"life\": 10.0}, {\"cells\": 3.0, \"life\": 7.0}, {\"cells\": 3.0, \"life\": 10.8}, {\"cells\": 2.0, \"life\": 6.0}, {\"cells\": 3.0, \"life\": 6.7}, {\"cells\": 3.0, \"life\": 6.0}, {\"cells\": 4.0, \"life\": 7.0}, {\"cells\": 3.0, \"life\": 10.0}, {\"cells\": 3.0, \"life\": 6.0}, {\"cells\": 3.0, \"life\": 10.0}, {\"cells\": 3.0, \"life\": 7.0}, {\"cells\": 4.0, \"life\": 19.0}, {\"cells\": 2.0, \"life\": 4.0}, {\"cells\": 3.0, \"life\": 9.0}, {\"cells\": 3.0, \"life\": 11.5}, {\"cells\": 4.0, \"life\": 6.0}, {\"cells\": 3.0, \"life\": 6.0}, {\"cells\": 3.0, \"life\": 5.0}, {\"cells\": 3.0, \"life\": 8.0}, {\"cells\": 3.0, \"life\": 8.0}, {\"cells\": 3.0, \"life\": 10.8}, {\"cells\": 3.0, \"life\": 13.0}, {\"cells\": 4.0, \"life\": 4.0}, {\"cells\": 4.0, \"life\": 8.0}, {\"cells\": 3.0, \"life\": 6.0}, {\"cells\": 4.0, \"life\": 14.0}, {\"cells\": 4.0, \"life\": 8.0}, {\"cells\": 4.0, \"life\": 14.0}, {\"cells\": 4.0, \"life\": 10.0}, {\"cells\": 4.0, \"life\": 8.0}, {\"cells\": 2.0, \"life\": 10.0}, {\"cells\": 3.0, \"life\": 8.0}, {\"cells\": 3.0, \"life\": 5.0}, {\"cells\": 3.0, \"life\": 6.0}, {\"cells\": 4.0, \"life\": 10.0}, {\"cells\": 2.0, \"life\": 16.5}, {\"cells\": 2.0, \"life\": 10.0}, {\"cells\": 3.0, \"life\": 6.0}, {\"cells\": 3.0, \"life\": 13.0}, {\"cells\": 4.0, \"life\": 7.0}, {\"cells\": 4.0, \"life\": 13.5}, {\"cells\": 3.0, \"life\": 14.0}, {\"cells\": 3.0, \"life\": 4.0}, {\"cells\": 6.0, \"life\": 8.0}, {\"cells\": 3.0, \"life\": 9.0}, {\"cells\": 4.0, \"life\": 7.0}, {\"cells\": 4.0, \"life\": 13.5}, {\"cells\": 3.0, \"life\": 14.0}, {\"cells\": 3.0, \"life\": 4.0}, {\"cells\": 6.0, \"life\": 8.0}, {\"cells\": 3.0, \"life\": 9.0}, {\"cells\": 4.0, \"life\": 7.0}, {\"cells\": 4.0, \"life\": 13.5}, {\"cells\": 3.0, \"life\": 14.0}, {\"cells\": 3.0, \"life\": 4.0}, {\"cells\": 6.0, \"life\": 8.0}, {\"cells\": 3.0, \"life\": 9.0}, {\"cells\": 4.0, \"life\": 7.0}, {\"cells\": 4.0, \"life\": 13.5}, {\"cells\": 3.0, \"life\": 14.0}, {\"cells\": 3.0, \"life\": 4.0}, {\"cells\": 6.0, \"life\": 8.0}, {\"cells\": 3.0, \"life\": 9.0}, {\"cells\": 4.0, \"life\": 7.0}, {\"cells\": 4.0, \"life\": 13.5}, {\"cells\": 3.0, \"life\": 14.0}, {\"cells\": 3.0, \"life\": 4.0}, {\"cells\": 6.0, \"life\": 8.0}, {\"cells\": 3.0, \"life\": 9.0}, {\"cells\": 4.0, \"life\": 7.0}, {\"cells\": 4.0, \"life\": 13.5}, {\"cells\": 3.0, \"life\": 14.0}, {\"cells\": 3.0, \"life\": 4.0}, {\"cells\": 6.0, \"life\": 8.0}, {\"cells\": 3.0, \"life\": 9.0}, {\"cells\": 4.0, \"life\": 7.0}, {\"cells\": 3.0, \"life\": 8.4}, {\"cells\": 3.0, \"life\": 6.0}, {\"cells\": 3.0, \"life\": 14.0}, {\"cells\": 4.0, \"life\": 7.0}, {\"cells\": 4.0, \"life\": 10.0}, {\"cells\": 4.0, \"life\": 4.0}, {\"cells\": 3.0, \"life\": 8.4}, {\"cells\": 3.0, \"life\": 6.0}, {\"cells\": 3.0, \"life\": 14.0}, {\"cells\": 4.0, \"life\": 7.0}, {\"cells\": 4.0, \"life\": 10.0}, {\"cells\": 4.0, \"life\": 4.0}, {\"cells\": 6.0, \"life\": 16.5}, {\"cells\": 3.0, \"life\": 15.5}, {\"cells\": 3.0, \"life\": 11.0}, {\"cells\": 3.0, \"life\": 12.0}, {\"cells\": 6.0, \"life\": 8.0}, {\"cells\": 4.0, \"life\": 15.0}, {\"cells\": 2.0, \"life\": 10.0}, {\"cells\": 2.0, \"life\": 8.0}, {\"cells\": 6.0, \"life\": 3.0}, {\"cells\": 4.0, \"life\": 25.0}, {\"cells\": 4.0, \"life\": 5.0}, {\"cells\": 6.0, \"life\": 12.5}, {\"cells\": 6.0, \"life\": 8.0}, {\"cells\": 4.0, \"life\": 10.0}, {\"cells\": 4.0, \"life\": 12.0}, {\"cells\": 4.0, \"life\": 5.0}, {\"cells\": 4.0, \"life\": 5.0}, {\"cells\": 2.0, \"life\": 4.0}, {\"cells\": 4.0, \"life\": 10.0}, {\"cells\": 4.0, \"life\": 12.0}, {\"cells\": 4.0, \"life\": 5.0}, {\"cells\": 4.0, \"life\": 5.0}, {\"cells\": 2.0, \"life\": 4.0}, {\"cells\": 2.0, \"life\": 9.0}, {\"cells\": 6.0, \"life\": 3.0}, {\"cells\": 3.0, \"life\": 12.0}, {\"cells\": 6.0, \"life\": 3.0}]}, \"mark\": \"point\", \"encoding\": {\"x\": {\"field\": \"cells\", \"type\": \"quantitative\"}, \"y\": {\"field\": \"life\", \"type\": \"quantitative\"}}, \"$schema\": \"https://vega.github.io/schema/vega-lite/v4.17.0.json\"}, {\"mode\": \"vega-lite\"});\n",
       "</script>"
      ],
      "text/plain": [
       "alt.Chart(...)"
      ]
     },
     "execution_count": 21,
     "metadata": {},
     "output_type": "execute_result"
    }
   ],
   "source": [
    "import re\n",
    "\n",
    "import altair as alt\n",
    "\n",
    "\n",
    "def parse_num(s):\n",
    "    match = re.match(r\"(\\d+(?:\\.\\d)?)\", s)\n",
    "    return float(match.groups()[0])\n",
    "\n",
    "\n",
    "ds = []\n",
    "for r in all_laptops:\n",
    "    cells = get_prop(r, \"specs\", \"Battery\", \"Battery Cell\")\n",
    "    life = get_prop(r, \"specs\", \"Battery\", \"Battery Life\")\n",
    "    if cells is None or life is None:\n",
    "        pass\n",
    "    else:\n",
    "        ds.append(\n",
    "            {\n",
    "                \"cells\": parse_num(cells),\n",
    "                \"life\": parse_num(life),\n",
    "            }\n",
    "        )\n",
    "\n",
    "\n",
    "alt.Chart(alt.Data(values=ds)).mark_point().encode(x=\"cells:Q\", y=\"life:Q\")"
   ]
  },
  {
   "cell_type": "markdown",
   "id": "ede0f988-691c-4e19-a7fe-442d2f804d4f",
   "metadata": {},
   "source": [
    "Clearly, the data is suspect. Macbooks also show up with 3 hr battery life which can't be true. \n",
    "\n",
    "I am just gonna make an arbitrary assignment. "
   ]
  },
  {
   "cell_type": "code",
   "execution_count": 22,
   "id": "35c0d184-8ecf-4a1b-97ec-639ffdc49c42",
   "metadata": {},
   "outputs": [],
   "source": [
    "def read_battery(row):\n",
    "    life = get_prop(row, \"specs\", \"Battery\", \"Battery Life\")\n",
    "    cells = get_prop(row, \"specs\", \"Battery\", \"Battery Cell\")\n",
    "    if life is not None:\n",
    "        return parse_num(life)\n",
    "    elif cells is not None:\n",
    "        return 5 if parse_num(cells) < 4 else 10\n",
    "    else:\n",
    "        return None"
   ]
  },
  {
   "cell_type": "code",
   "execution_count": 23,
   "id": "e147f05f-06e1-4339-b5fc-b9d5c0e95fc8",
   "metadata": {},
   "outputs": [
    {
     "data": {
      "text/plain": [
       "array([15.0, 5, 7.0, None, 6.0, 4.0, 11.0, 12.0, 10, 8.0, 9.4, 9.0, 7.1,\n",
       "       13.0, 9.3, 14.0, 3.0, 18.0, 9.5, 9.2, 10.8, 20.0, 7.5, 11.5, 9.1,\n",
       "       8.5, 21.0, 12.5, 6.5, 10.5, 6.7, 13.5, 8.4, 17.0, 11.1, 19.0, 16.5,\n",
       "       5.5, 15.5, 25.0], dtype=object)"
      ]
     },
     "execution_count": 23,
     "metadata": {},
     "output_type": "execute_result"
    }
   ],
   "source": [
    "pd.unique([read_battery(r) for r in all_laptops])"
   ]
  },
  {
   "cell_type": "markdown",
   "id": "64da11ea-d755-4625-9d92-68f3b644d35c",
   "metadata": {},
   "source": [
    "#### Warranty"
   ]
  },
  {
   "cell_type": "markdown",
   "id": "f43d1923-8db0-4b38-8d8c-8f0704fe0d20",
   "metadata": {},
   "source": [
    "Warranty seems like another important attribute. Let's read that. "
   ]
  },
  {
   "cell_type": "code",
   "execution_count": 24,
   "id": "00fa7237-e360-4e37-96fe-19bf4545c41c",
   "metadata": {},
   "outputs": [],
   "source": [
    "# pd.unique([get_prop(r, \"specs\", \"Others\", \"Warranty\") for r in all_laptops])"
   ]
  },
  {
   "cell_type": "code",
   "execution_count": 25,
   "id": "c49c907a-bd00-44b5-9250-8978d535a4b7",
   "metadata": {},
   "outputs": [
    {
     "data": {
      "text/plain": [
       "array([1, 2, None, 3], dtype=object)"
      ]
     },
     "execution_count": 25,
     "metadata": {},
     "output_type": "execute_result"
    }
   ],
   "source": [
    "def read_warranty(row):\n",
    "    warr = get_prop(row, \"specs\", \"Others\", \"Warranty\")\n",
    "    if warr is None:\n",
    "        return None\n",
    "    else:\n",
    "        val = re.match(r\"(\\d+)\", warr)\n",
    "        return int(val.groups()[0])\n",
    "\n",
    "\n",
    "pd.unique([read_warranty(r) for r in all_laptops])"
   ]
  },
  {
   "cell_type": "markdown",
   "id": "90870a69-7206-4c46-b925-b4aa8ebe1e16",
   "metadata": {
    "tags": []
   },
   "source": [
    "#### Price"
   ]
  },
  {
   "cell_type": "code",
   "execution_count": 26,
   "id": "188adb3c-f5b3-4893-89d1-2cac1141ebd7",
   "metadata": {
    "scrolled": true,
    "tags": []
   },
   "outputs": [],
   "source": [
    "# pd.unique([get_prop(r, \"price\") for r in all_laptops])"
   ]
  },
  {
   "cell_type": "code",
   "execution_count": 27,
   "id": "bb5b4ae8-12c3-4146-a9c1-152488c12773",
   "metadata": {},
   "outputs": [
    {
     "data": {
      "text/plain": [
       "90900"
      ]
     },
     "execution_count": 27,
     "metadata": {},
     "output_type": "execute_result"
    }
   ],
   "source": [
    "def read_price(row):\n",
    "    return get_prop(row, \"price\")\n",
    "\n",
    "\n",
    "read_price(all_laptops[0])"
   ]
  },
  {
   "cell_type": "markdown",
   "id": "c2873b67-23f3-42ed-a78c-b97d639c8c7d",
   "metadata": {},
   "source": [
    "#### RAM"
   ]
  },
  {
   "cell_type": "code",
   "execution_count": 28,
   "id": "b0785efd-8a21-4587-bbcd-17841766b444",
   "metadata": {},
   "outputs": [
    {
     "data": {
      "text/plain": [
       "array([ 8, 16,  4,  2, 32])"
      ]
     },
     "execution_count": 28,
     "metadata": {},
     "output_type": "execute_result"
    }
   ],
   "source": [
    "def read_ram(row):\n",
    "    ram = get_prop(row, \"specs\", \"Memory\", \"Capacity\")\n",
    "    if ram is None:\n",
    "        return None\n",
    "    else:\n",
    "        return int(ram.split(\" \")[0])\n",
    "\n",
    "\n",
    "pd.unique([read_ram(r) for r in all_laptops])"
   ]
  },
  {
   "cell_type": "markdown",
   "id": "11bc3fd1-436b-41a3-85a6-14f2fc4324c2",
   "metadata": {},
   "source": [
    "#### Storage"
   ]
  },
  {
   "cell_type": "code",
   "execution_count": 29,
   "id": "362f52c0-da47-4782-9325-e50d93ba72f3",
   "metadata": {
    "scrolled": true,
    "tags": []
   },
   "outputs": [
    {
     "data": {
      "text/plain": [
       "array([(256, None), (512, None), (256, 1024), (None, 1024), (128, None),\n",
       "       (64, None), (None, None), (1024, None), (512, 1024), (None, 500),\n",
       "       (32, None), (16, None), (128, 1024), (None, 2048), (16, 1024),\n",
       "       (None, 1), (2048, None), (None, 320)], dtype=object)"
      ]
     },
     "execution_count": 29,
     "metadata": {},
     "output_type": "execute_result"
    }
   ],
   "source": [
    "def _parse_mem(s):\n",
    "    val = int(s.split(\" \")[0])\n",
    "    # some typos in data\n",
    "    if \"TB\" in s and val < 10:\n",
    "        return val * 1024\n",
    "    else:\n",
    "        return val\n",
    "\n",
    "\n",
    "def read_storage(row):\n",
    "    storage = get_prop(row, \"specs\", \"Storage\")\n",
    "    ssd, hdd = None, None\n",
    "    if storage is not None:\n",
    "        if \"SSD Capacity\" in storage:\n",
    "            ssd = _parse_mem(storage[\"SSD Capacity\"])\n",
    "        if \"HDD Capacity\" in storage:\n",
    "            hdd = _parse_mem(storage[\"HDD Capacity\"])\n",
    "    return ssd, hdd\n",
    "\n",
    "\n",
    "pd.unique([read_storage(r) for r in all_laptops])"
   ]
  },
  {
   "cell_type": "markdown",
   "id": "96d31c8f-59eb-4e2b-aaa2-8630c4f2c36b",
   "metadata": {},
   "source": [
    "#### Colors"
   ]
  },
  {
   "cell_type": "code",
   "execution_count": 30,
   "id": "c781fb0c-177d-4065-97df-159a9b24b7a3",
   "metadata": {
    "scrolled": true,
    "tags": []
   },
   "outputs": [
    {
     "data": {
      "text/plain": [
       "array([('Gold',), ('Charcoal Black',), ('Jet black',),\n",
       "       ('Transparent Silver',), ('Real Blue',), ('Black',),\n",
       "       ('Natural Silver',), ('Shadow Black',), ('Black Plastic',),\n",
       "       ('Blue',), ('Eclipse Gray',), ('Jet Black',), ('Shale Black',),\n",
       "       ('Carbon Gray',), ('Indie Black',), ('Graphite Black',),\n",
       "       ('Charcoal Gray',), ('Platinum Grey',), ('Starfall Grey',),\n",
       "       ('Silver',), ('Space Grey',), ('Arctic Grey',), ('Slate Grey',),\n",
       "       ('Noble Red',), ('Onyx Black',), ('Bonfire Black',),\n",
       "       ('Cosmic Blue',), ('Performance blue',), ('Carbon Black',),\n",
       "       ('Quiet Blue',), ('Pure Silver',), ('Performance Blue',),\n",
       "       ('Indigo Blue',), ('Ash Grey',), ('Carbon Grey',),\n",
       "       ('Hearty Gold',), ('Dark Grey',), ('Dreamy White',),\n",
       "       ('Cobalt Blue',), ('Bespoke Black',),\n",
       "       ('Shadow Black & Ultra Violet',), ('Dark Shadow Grey',),\n",
       "       ('Dark Ash Silver',), ('Rose Gold',),\n",
       "       ('Phantom Grey with speckles',), ('Volt Green',),\n",
       "       ('Graphite Grey',), ('Off Black',), ('bBonfire Black',),\n",
       "       ('Lustrous Grey',), ('Pebble Green',), ('Blizzard White',),\n",
       "       ('Pine Grey',), ('Grey',), ('Star Grey',), ('Graphite',),\n",
       "       ('Gray',), ('White',), ('Real Blue', 'Real Grey and Real Green'),\n",
       "       ('Phantom Blue',), ('Moonlight White',), ('Abyssal Black',),\n",
       "       ('Mecha Gray',), ('Dune',), ('Phantom Black',),\n",
       "       ('Pale Rose Gold',), ('Accent Black',), ('Eclipse Grey',),\n",
       "       ('Platinum Silver',), ('Ceremic White',), ('Mineral Gray',),\n",
       "       ('Jaeger Gray',), ('Sparkling Black',), ('Original Black',),\n",
       "       ('Spruce blue',), ('Mineral Silver',), ('Carbon Color',),\n",
       "       ('Phantom Blue', 'Shadow Black'), ('Mica Silver',),\n",
       "       ('Golden Navy Blue',), ('Black', 'Silver', 'Blue', 'Pink'),\n",
       "       ('Cool Silver',), ('Blue', 'Silver'),\n",
       "       ('Gloss Precious Black With Crossline Pattern',), ('Abyss Blue',),\n",
       "       ('Soft Mint',), ('Titanium',), ('Matte Black',), ('Ponder Blue',),\n",
       "       ('Celestial Blue',), ('Star Black',), ('Mystic Silver',),\n",
       "       ('1.46',), ('Tranquil Pink',), ('Cognac Brown',), ('Jade Black',),\n",
       "       ('Shadow black',), ('Obsidian Black',), ('Sugar Red',),\n",
       "       ('Peacock Blue',), ('Pink',), ('Pale Gold',), ('Electro Punk',),\n",
       "       ('Infinite Black',), ('Storm grey (top)', 'Black (bottom)'),\n",
       "       ('Mint',), ('Titan Grey',), ('Lilac Mist',), ('Mineral Grey',),\n",
       "       ('Indie Black', 'Neutral Grey'), ('Jaegar Gray',),\n",
       "       ('Volcano Grey',), ('Abyss Black',), ('Granite Black',),\n",
       "       ('Purple', 'Silver'), ('Silver', 'Gold'), ('Iron Grey',),\n",
       "       ('Sparkly Silver',), ('Storm Grey', 'Black'), ('Nightfall Black',),\n",
       "       ('Coral Crush',),\n",
       "       ('Shamrock Green', 'Angel Blue', 'Avita Purple', 'Cloud Silver', 'Matt Black', 'Pearl White & Space Grey'),\n",
       "       ('Platinum',), ('Gun Metal',), ('Gold', 'Grey'), ('Red',),\n",
       "       ('Burgundy',), ('Royal Blue',), ('Black', 'Silver'), ('2.4',),\n",
       "       ('Night Fall Black',), ('Poseidon Blue',), ('Spangle Silver',),\n",
       "       ('Purple',), ('Charcoal Blue',), ('Iron',), ('Crimson Red',),\n",
       "       ('Snow White',), ('Signature Black',), ('Silver & Black',),\n",
       "       ('Onxy Black',), ('Royal Blue', 'Quartz Grey'),\n",
       "       ('Glossy Precious Black',)], dtype=object)"
      ]
     },
     "execution_count": 30,
     "metadata": {},
     "output_type": "execute_result"
    }
   ],
   "source": [
    "def read_colors(row):\n",
    "    return tuple(get_prop(row, \"specs\", \"General Information\", \"Colors\").split(\", \"))\n",
    "\n",
    "\n",
    "pd.unique([read_colors(r) for r in all_laptops])"
   ]
  },
  {
   "cell_type": "markdown",
   "id": "98009c83-c5bc-4d9a-a242-99a7151e528a",
   "metadata": {
    "tags": []
   },
   "source": [
    "## Collect all the properties under a separate field"
   ]
  },
  {
   "cell_type": "code",
   "execution_count": 31,
   "id": "2ef0b854-7298-46bf-bedd-e58dcc7584d8",
   "metadata": {},
   "outputs": [],
   "source": [
    "docs = []\n",
    "for i, row in enumerate(all_laptops):\n",
    "    gpu_make, gpu_memory = read_gpu(row)\n",
    "    sdd, hdd = read_storage(row)\n",
    "    doc = {\n",
    "        \"id\": i,\n",
    "        \"warranty\": read_warranty(row),\n",
    "        \"battery\": read_battery(row),\n",
    "        \"ram\": read_ram(row),\n",
    "        \"sdd\": sdd,\n",
    "        \"hdd\": hdd,\n",
    "        \"gpu_make\": gpu_make,\n",
    "        \"gpu_memory\": gpu_memory,\n",
    "        \"processor_make\": read_processor(row),\n",
    "        \"display_size\": read_screen_size(row),\n",
    "        \"resolution\": read_resolution(row),\n",
    "        \"os\": read_os(row),\n",
    "        \"weight\": read_weight(row),\n",
    "        \"make\": read_brand(row),\n",
    "        \"colors\": read_colors(row),\n",
    "        # pick out other attributes\n",
    "        \"price\": read_price(row),\n",
    "        \"rating_value\": row[\"rating_value\"],\n",
    "        \"rating_count\": row[\"rating_count\"],\n",
    "        \"title\": row[\"title\"],\n",
    "        \"urls\": {\n",
    "            \"specs\": row[\"url_specs\"],\n",
    "            \"img_small\": row[\"url_img_small\"],\n",
    "            \"img_large\": row[\"url_img_large\"],\n",
    "        },\n",
    "        \"specs\": row[\"specs\"],\n",
    "    }\n",
    "\n",
    "    docs.append(doc)"
   ]
  },
  {
   "cell_type": "code",
   "execution_count": 32,
   "id": "b158b0fe-0e50-4c85-b8d7-d5a8c3214649",
   "metadata": {},
   "outputs": [
    {
     "data": {
      "text/plain": [
       "1151"
      ]
     },
     "execution_count": 32,
     "metadata": {},
     "output_type": "execute_result"
    }
   ],
   "source": [
    "len(docs)"
   ]
  },
  {
   "cell_type": "code",
   "execution_count": 33,
   "id": "d0ee2609-978f-4e0a-8d15-a65fc8df81dc",
   "metadata": {},
   "outputs": [],
   "source": [
    "with open(\"data/list_laptop_attrs.jsonl\", \"w\") as f:\n",
    "    for doc in docs:\n",
    "        f.write(json.dumps(doc) + \"\\n\")"
   ]
  },
  {
   "cell_type": "code",
   "execution_count": 34,
   "id": "564112c9-7845-4648-add0-60a107d58a0e",
   "metadata": {},
   "outputs": [
    {
     "data": {
      "text/plain": [
       "{'id': 0,\n",
       " 'warranty': 1,\n",
       " 'battery': 15.0,\n",
       " 'ram': 8,\n",
       " 'sdd': 256,\n",
       " 'hdd': None,\n",
       " 'gpu_make': None,\n",
       " 'gpu_memory': None,\n",
       " 'processor_make': 'Apple chip',\n",
       " 'display_size': 13.3,\n",
       " 'resolution': (2560, 1600),\n",
       " 'os': 'MacOS',\n",
       " 'weight': 1.29,\n",
       " 'make': 'Apple',\n",
       " 'colors': ('Gold',),\n",
       " 'price': 90900,\n",
       " 'rating_value': 4.7,\n",
       " 'rating_count': 11912,\n",
       " 'title': 'Apple MacBook Air M1 MGND3HN/A Ultrabook (Apple M1/8 GB/256 GB SSD/macOS Big Sur)',\n",
       " 'urls': {'specs': 'https://www.91mobiles.com//apple-m1-mgnd3hn-a-apple-m1-8-gb-256-gb-macos-big-sur-laptop-price-in-india-141587#specifications',\n",
       "  'img_small': 'https://www.91-img.com/pictures/laptops/apple/apple-m1-mgnd3hn-a-141587-v1-small-1.jpg?tr=q-80',\n",
       "  'img_large': 'https://www.91-img.com/pictures/laptops/apple/apple-m1-mgnd3hn-a-141587-v1-large-1.jpg?tr=q-80'},\n",
       " 'specs': {'General Information': {'Brand': 'Apple',\n",
       "   'Model': 'M1 MGND3HN/A',\n",
       "   'Dimensions(WxHxD)': '304.1 x 212.4 x 10.9 \\xa0mm',\n",
       "   'Weight': '1.29 Kg',\n",
       "   'Colors': 'Gold',\n",
       "   'Operating System': 'macOS Big Sur'},\n",
       "  'Display Details': {'Display Size': '13.3 Inches (33.78 cm)',\n",
       "   'Display Resolution': '2560 x 1600 Pixels',\n",
       "   'Pixel Density': '227 ppi',\n",
       "   'Display Type': 'LED',\n",
       "   'Display Features': 'Quad LED Backlit IPS Display (227 PPI, 400 nits Brightness, Wide Colour (P3), True Tone Technology)',\n",
       "   'Display Touchscreen': 'No'},\n",
       "  'Performance': {'Processor': 'Apple M1'},\n",
       "  'Memory': {'Capacity': '8 GB',\n",
       "   'RAM type': 'DDR4',\n",
       "   'Memory Slots': '1',\n",
       "   'Memory Layout': '1x8 Gigabyte'},\n",
       "  'Storage': {'SSD Capacity': '256 GB'},\n",
       "  'Battery': {'Battery type': 'Li-Po',\n",
       "   'Power Supply': '30 W AC Adapter W',\n",
       "   'Battery Life': '15 Hrs'},\n",
       "  'Networking': {'Wireless LAN': '802.11 b/g/n/ax',\n",
       "   'Bluetooth': 'Yes',\n",
       "   'Bluetooth Version': '5.0'},\n",
       "  'Ports': {'Headphone Jack': 'Yes', 'Microphone Jack': 'Yes'},\n",
       "  'Multimedia': {'Web-cam': 'Yes',\n",
       "   'Video Recording': '720p HD',\n",
       "   'Secondary cam(Rear-facing)': 'No',\n",
       "   'Speakers': 'Built-in Speakers',\n",
       "   'Sound Technologies': 'Wide Stereo Sound, Support for Dolby Atmos Playback',\n",
       "   'In-built Microphone': 'Yes',\n",
       "   'Microphone Type': 'Three-mic Array with Directional Beamforming'},\n",
       "  'Peripherals': {'Optical Drive': 'No',\n",
       "   'Pointing Device': 'Touchpad with Multi-Touch Gestures Enabled',\n",
       "   'Keyboard': 'Magic Keyboard',\n",
       "   'Backlit Keyboard': 'Yes',\n",
       "   'Fingerprint Scanner': 'No'},\n",
       "  'Others': {'Warranty': '1 Year',\n",
       "   'Sales Package': 'Laptop, Battery, AC Adapter, User Guide'}}}"
      ]
     },
     "execution_count": 34,
     "metadata": {},
     "output_type": "execute_result"
    }
   ],
   "source": [
    "docs[0]"
   ]
  },
  {
   "cell_type": "code",
   "execution_count": null,
   "id": "a60d3f72-e9eb-401b-87a4-31914c6cd288",
   "metadata": {},
   "outputs": [],
   "source": []
  }
 ],
 "metadata": {
  "kernelspec": {
   "display_name": "Python 3 (ipykernel)",
   "language": "python",
   "name": "python3"
  },
  "language_info": {
   "codemirror_mode": {
    "name": "ipython",
    "version": 3
   },
   "file_extension": ".py",
   "mimetype": "text/x-python",
   "name": "python",
   "nbconvert_exporter": "python",
   "pygments_lexer": "ipython3",
   "version": "3.9.5"
  }
 },
 "nbformat": 4,
 "nbformat_minor": 5
}
