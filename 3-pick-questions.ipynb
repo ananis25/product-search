{
 "cells": [
  {
   "cell_type": "markdown",
   "id": "e637c4ee-39fd-40bc-b60f-2b7ccacbc0cb",
   "metadata": {},
   "source": [
    "We want to narrow down the set of products relevant to the user by asking them multiple choice questions. Too many would bore them away, so we want to keep the list small while trying to learn as many user preferences as we can. "
   ]
  },
  {
   "cell_type": "markdown",
   "id": "4a9fa797-cdaa-4753-a029-c49444267446",
   "metadata": {},
   "source": [
    "Each user preference could correspond to \n",
    "- **a single product attribute** \n",
    "\n",
    "    affinity for Macbooks => Brand == \"Apple\"\n",
    "\n",
    "- **multiple attributes** \n",
    "\n",
    "    `gaming` laptop => (GPU mem >= 4GB) AND (Display >= \"Full HD\")\n",
    "\n",
    "For simplicity, we elicit user preferences that correspond to singular attributes only."
   ]
  },
  {
   "cell_type": "markdown",
   "id": "1024c301-249f-4a1f-be7d-8a38a09a13d4",
   "metadata": {},
   "source": [
    "## Shortlist to a smaller set of products"
   ]
  },
  {
   "cell_type": "code",
   "execution_count": 1,
   "id": "623151ad-6122-4964-8f3b-19b14274d2a4",
   "metadata": {},
   "outputs": [],
   "source": [
    "import json\n",
    "from collections import Counter\n",
    "\n",
    "import altair as alt\n",
    "import numpy as np"
   ]
  },
  {
   "cell_type": "code",
   "execution_count": 2,
   "id": "98bda203-b27d-419a-b688-ac145ae76a95",
   "metadata": {},
   "outputs": [
    {
     "data": {
      "text/plain": [
       "1151"
      ]
     },
     "execution_count": 2,
     "metadata": {},
     "output_type": "execute_result"
    }
   ],
   "source": [
    "with open(\"data/list_laptop_attrs.jsonl\", \"r\") as f:\n",
    "    all_laptops = [json.loads(r) for r in f]\n",
    "\n",
    "len(all_laptops)"
   ]
  },
  {
   "cell_type": "code",
   "execution_count": 3,
   "id": "99bfff92-2153-458c-925c-7e96fdb7d31f",
   "metadata": {
    "scrolled": true,
    "tags": []
   },
   "outputs": [
    {
     "data": {
      "text/plain": [
       "{'id': 0,\n",
       " 'warranty': 1,\n",
       " 'battery': 15.0,\n",
       " 'ram': 8,\n",
       " 'sdd': 256,\n",
       " 'hdd': None,\n",
       " 'gpu_make': None,\n",
       " 'gpu_memory': None,\n",
       " 'processor_make': 'Apple chip',\n",
       " 'display_size': 13.3,\n",
       " 'resolution': [2560, 1600],\n",
       " 'os': 'MacOS',\n",
       " 'weight': 1.29,\n",
       " 'make': 'Apple',\n",
       " 'colors': ['Gold'],\n",
       " 'price': 90900,\n",
       " 'rating_value': 4.7,\n",
       " 'rating_count': 11912,\n",
       " 'title': 'Apple MacBook Air M1 MGND3HN/A Ultrabook (Apple M1/8 GB/256 GB SSD/macOS Big Sur)',\n",
       " 'urls': {'specs': 'https://www.91mobiles.com//apple-m1-mgnd3hn-a-apple-m1-8-gb-256-gb-macos-big-sur-laptop-price-in-india-141587#specifications',\n",
       "  'img_small': 'https://www.91-img.com/pictures/laptops/apple/apple-m1-mgnd3hn-a-141587-v1-small-1.jpg?tr=q-80',\n",
       "  'img_large': 'https://www.91-img.com/pictures/laptops/apple/apple-m1-mgnd3hn-a-141587-v1-large-1.jpg?tr=q-80'},\n",
       " 'specs': {'General Information': {'Brand': 'Apple',\n",
       "   'Model': 'M1 MGND3HN/A',\n",
       "   'Dimensions(WxHxD)': '304.1 x 212.4 x 10.9 \\xa0mm',\n",
       "   'Weight': '1.29 Kg',\n",
       "   'Colors': 'Gold',\n",
       "   'Operating System': 'macOS Big Sur'},\n",
       "  'Display Details': {'Display Size': '13.3 Inches (33.78 cm)',\n",
       "   'Display Resolution': '2560 x 1600 Pixels',\n",
       "   'Pixel Density': '227 ppi',\n",
       "   'Display Type': 'LED',\n",
       "   'Display Features': 'Quad LED Backlit IPS Display (227 PPI, 400 nits Brightness, Wide Colour (P3), True Tone Technology)',\n",
       "   'Display Touchscreen': 'No'},\n",
       "  'Performance': {'Processor': 'Apple M1'},\n",
       "  'Memory': {'Capacity': '8 GB',\n",
       "   'RAM type': 'DDR4',\n",
       "   'Memory Slots': '1',\n",
       "   'Memory Layout': '1x8 Gigabyte'},\n",
       "  'Storage': {'SSD Capacity': '256 GB'},\n",
       "  'Battery': {'Battery type': 'Li-Po',\n",
       "   'Power Supply': '30 W AC Adapter W',\n",
       "   'Battery Life': '15 Hrs'},\n",
       "  'Networking': {'Wireless LAN': '802.11 b/g/n/ax',\n",
       "   'Bluetooth': 'Yes',\n",
       "   'Bluetooth Version': '5.0'},\n",
       "  'Ports': {'Headphone Jack': 'Yes', 'Microphone Jack': 'Yes'},\n",
       "  'Multimedia': {'Web-cam': 'Yes',\n",
       "   'Video Recording': '720p HD',\n",
       "   'Secondary cam(Rear-facing)': 'No',\n",
       "   'Speakers': 'Built-in Speakers',\n",
       "   'Sound Technologies': 'Wide Stereo Sound, Support for Dolby Atmos Playback',\n",
       "   'In-built Microphone': 'Yes',\n",
       "   'Microphone Type': 'Three-mic Array with Directional Beamforming'},\n",
       "  'Peripherals': {'Optical Drive': 'No',\n",
       "   'Pointing Device': 'Touchpad with Multi-Touch Gestures Enabled',\n",
       "   'Keyboard': 'Magic Keyboard',\n",
       "   'Backlit Keyboard': 'Yes',\n",
       "   'Fingerprint Scanner': 'No'},\n",
       "  'Others': {'Warranty': '1 Year',\n",
       "   'Sales Package': 'Laptop, Battery, AC Adapter, User Guide'}}}"
      ]
     },
     "execution_count": 3,
     "metadata": {},
     "output_type": "execute_result"
    }
   ],
   "source": [
    "all_laptops[0]"
   ]
  },
  {
   "cell_type": "markdown",
   "id": "bccb6b0c-c0c1-4f79-a8cd-29a69f0ef4d5",
   "metadata": {},
   "source": [
    "Filter out products for which a non-optional attribute is missing (GPU for ex is optional)"
   ]
  },
  {
   "cell_type": "code",
   "execution_count": 5,
   "id": "ece792ba-bf4c-43e3-b634-40c44defc9b7",
   "metadata": {},
   "outputs": [
    {
     "data": {
      "text/plain": [
       "1034"
      ]
     },
     "execution_count": 5,
     "metadata": {},
     "output_type": "execute_result"
    }
   ],
   "source": [
    "must_attrs = (\n",
    "    \"warranty\",\n",
    "    \"battery\",\n",
    "    \"ram\",\n",
    "    \"processor_make\",\n",
    "    \"display_size\",\n",
    "    \"resolution\",\n",
    "    \"os\",\n",
    "    \"weight\",\n",
    "    \"make\",\n",
    "    \"price\",\n",
    ")\n",
    "\n",
    "catalog = []\n",
    "for item in all_laptops:\n",
    "    if not any(item[key] is None for key in must_attrs):\n",
    "        if item[\"sdd\"] is None and item[\"hdd\"] is None:\n",
    "            pass\n",
    "        else:\n",
    "            catalog.append(item)\n",
    "\n",
    "len(catalog)"
   ]
  },
  {
   "cell_type": "markdown",
   "id": "41cc9a03-4aaf-4cbe-93a0-4d93a9708500",
   "metadata": {},
   "source": [
    "Still a lot of these, maybe we could filter based on the num of reviews and if ratings are any good. "
   ]
  },
  {
   "cell_type": "code",
   "execution_count": 6,
   "id": "5e4e8897-6af7-4533-b892-8ef0bf9b831f",
   "metadata": {},
   "outputs": [
    {
     "data": {
      "text/plain": [
       "array([1.0000e+00, 6.3000e+00, 2.1000e+01, 6.1900e+01, 8.7000e+01,\n",
       "       1.3500e+02, 2.4660e+02, 4.4860e+02, 8.2920e+02, 2.0223e+03])"
      ]
     },
     "execution_count": 6,
     "metadata": {},
     "output_type": "execute_result"
    }
   ],
   "source": [
    "import numpy as np\n",
    "\n",
    "counts = [item[\"rating_count\"] for item in catalog]\n",
    "np.percentile(counts, np.linspace(0, 90, 10))"
   ]
  },
  {
   "cell_type": "markdown",
   "id": "cabd7f32-af5c-4f74-8562-4c0095c711fe",
   "metadata": {},
   "source": [
    "A lot of popular laptops, like Apple have few ratings though. We could instead filter after sorting by ratings. "
   ]
  },
  {
   "cell_type": "code",
   "execution_count": 7,
   "id": "e4feaeb3-b7fc-48c9-bd58-2baeba3ada82",
   "metadata": {},
   "outputs": [
    {
     "data": {
      "text/plain": [
       "array([1. , 3.6, 3.9, 4. , 4.1, 4.2, 4.3, 4.4, 4.4, 4.5])"
      ]
     },
     "execution_count": 7,
     "metadata": {},
     "output_type": "execute_result"
    }
   ],
   "source": [
    "counts = [item[\"rating_value\"] for item in catalog]\n",
    "np.percentile(counts, np.linspace(0, 90, 10))"
   ]
  },
  {
   "cell_type": "markdown",
   "id": "4507234b-32f0-4db0-8acf-3ad0f41b25f5",
   "metadata": {},
   "source": [
    "Neat, lets filter down to items with a >4 rating. "
   ]
  },
  {
   "cell_type": "code",
   "execution_count": 8,
   "id": "0fcdb119-2cbb-4a7d-8330-71d4df152c59",
   "metadata": {},
   "outputs": [
    {
     "data": {
      "text/plain": [
       "693"
      ]
     },
     "execution_count": 8,
     "metadata": {},
     "output_type": "execute_result"
    }
   ],
   "source": [
    "catalog_final = [item for item in catalog if item[\"rating_value\"] > 4]\n",
    "len(catalog_final)"
   ]
  },
  {
   "cell_type": "code",
   "execution_count": 9,
   "id": "75ed1e61-6482-462b-bd0b-458c8f582c37",
   "metadata": {
    "scrolled": true,
    "tags": []
   },
   "outputs": [
    {
     "data": {
      "text/plain": [
       "Counter({'Apple': 9,\n",
       "         'Acer': 56,\n",
       "         'HP': 196,\n",
       "         'Asus': 159,\n",
       "         'MSI': 38,\n",
       "         'Infinix': 9,\n",
       "         'Xiaomi': 8,\n",
       "         'Lenovo': 128,\n",
       "         'Dell': 70,\n",
       "         'Nokia': 2,\n",
       "         'Microsoft': 4,\n",
       "         'Samsung': 3,\n",
       "         'Honor': 1,\n",
       "         'Avita': 6,\n",
       "         'VAIO': 1,\n",
       "         'LG': 2,\n",
       "         'Wipro': 1})"
      ]
     },
     "execution_count": 9,
     "metadata": {},
     "output_type": "execute_result"
    }
   ],
   "source": [
    "Counter([item[\"make\"] for item in catalog_final])"
   ]
  },
  {
   "cell_type": "markdown",
   "id": "e2dbb4ec-512f-46dd-a60f-748a3ac0d4b2",
   "metadata": {},
   "source": [
    "## picking questions"
   ]
  },
  {
   "cell_type": "markdown",
   "id": "6b79728d-379f-4231-8828-6b6ebc2f8a52",
   "metadata": {},
   "source": [
    "Also, in absence of sophisticated modeling (say, reinforcement learning to model user rewards through the full interaction), we assume that the value of each question is independent of the current user-system state. To pick out the useful questions, two metrics seem obvious. \n",
    "\n",
    "1. **popular criteria for purchases**\n",
    "\n",
    "    We don't want to ask for preferences that are too technical. The popular features people use to make decisions could be obtained through mining online reviews, surveys or expert judgement. \n",
    "    \n",
    "    This needs external data though, so I am just gonna handwave it. \n",
    "\n",
    "\n",
    "2. **preferences that help us narrow down the list the quickest**\n",
    "\n",
    "    We could pick attributes which, on average, reduce the consideration set the largest. For instance, a user specifying only Apple laptops only need to explore through all the Macbooks. \n",
    "\n",
    "    Another metric we could use is the information gain measured as the change in `Shannon entropy`. Assuming all items were equally likely to be relevant at the outset, we could compute the average reduction in entropy if the user filters down to one of the attribute values. This is similar to how decision trees split, and more theoretically \"principled\". "
   ]
  },
  {
   "cell_type": "markdown",
   "id": "c93495be-374f-41ec-a82d-58f01d771731",
   "metadata": {},
   "source": [
    "The intuition from using average decrease in entropy/count is to create choices that split the catalog in equal sized subsets. Though we also need to keep familiarity of users with each option in mind. "
   ]
  },
  {
   "cell_type": "markdown",
   "id": "ef0a2fb5-7fd7-4530-ad6a-78f4bedbc3cc",
   "metadata": {},
   "source": [
    "#### Brand"
   ]
  },
  {
   "cell_type": "code",
   "execution_count": 10,
   "id": "cefc26cf-a395-48a4-b019-4a635bf4de11",
   "metadata": {
    "scrolled": true,
    "tags": []
   },
   "outputs": [
    {
     "data": {
      "text/plain": [
       "Counter({'Apple': 9,\n",
       "         'Acer': 56,\n",
       "         'HP': 196,\n",
       "         'Asus': 159,\n",
       "         'MSI': 38,\n",
       "         'Infinix': 9,\n",
       "         'Xiaomi': 8,\n",
       "         'Lenovo': 128,\n",
       "         'Dell': 70,\n",
       "         'Nokia': 2,\n",
       "         'Microsoft': 4,\n",
       "         'Samsung': 3,\n",
       "         'Honor': 1,\n",
       "         'Avita': 6,\n",
       "         'VAIO': 1,\n",
       "         'LG': 2,\n",
       "         'Wipro': 1})"
      ]
     },
     "execution_count": 10,
     "metadata": {},
     "output_type": "execute_result"
    }
   ],
   "source": [
    "Counter([r[\"make\"] for r in catalog_final])"
   ]
  },
  {
   "cell_type": "markdown",
   "id": "6b7344cc-9d9f-4fbd-8b4d-35d5d797b3f0",
   "metadata": {},
   "source": [
    "The most frequent brands are - Asus, Lenovo and HP. Though, we know empirically that Apple makes a major fraction of all laptops sold, while Dell has a big market share too. We could frame the question as:\n",
    "\n",
    "```\n",
    "Are you looking for laptops of a specific make? \n",
    "- Apple\n",
    "- Dell\n",
    "- Asus\n",
    "- Show me everything\n",
    "```"
   ]
  },
  {
   "cell_type": "markdown",
   "id": "4fa2004e-5034-4f78-9679-36ca3aca72f1",
   "metadata": {},
   "source": [
    "#### OS"
   ]
  },
  {
   "cell_type": "code",
   "execution_count": 11,
   "id": "ced5f800-7769-4b75-a63d-ad523e0f1ad6",
   "metadata": {},
   "outputs": [
    {
     "data": {
      "text/plain": [
       "Counter({'MacOS': 9, 'Windows': 665, 'Chrome': 9, 'Others': 8, 'Linux': 2})"
      ]
     },
     "execution_count": 11,
     "metadata": {},
     "output_type": "execute_result"
    }
   ],
   "source": [
    "Counter([r[\"os\"] for r in catalog_final])"
   ]
  },
  {
   "cell_type": "markdown",
   "id": "42fdbfd5-ada6-42ee-9fd0-91a771ce8894",
   "metadata": {},
   "source": [
    "Laptops coming with Linux as the default are few. The relevant question here would be, \n",
    "\n",
    "```\n",
    "Do you have a preference among the following operating system?\n",
    "- Apple MacOS\n",
    "- Windows laptops\n",
    "- Chromebooks\n",
    "- Not sure\n",
    "```\n",
    "\n",
    "The laptop make is strongly correlated with the OS for half the purchases (Apple, MacOS), so asking for OS preference seems the better option. "
   ]
  },
  {
   "cell_type": "markdown",
   "id": "c6cbb124-705a-42b9-931e-72751ff2a6cc",
   "metadata": {},
   "source": [
    "#### Price"
   ]
  },
  {
   "cell_type": "markdown",
   "id": "5dde3347-03f2-40a6-a096-4b7300f7a47d",
   "metadata": {},
   "source": [
    "This is a continuous scale, lets look at the distribution to group laptops into buckets. "
   ]
  },
  {
   "cell_type": "code",
   "execution_count": 12,
   "id": "37f00f7c-66ca-46dd-80ad-b44940b3df1f",
   "metadata": {
    "tags": []
   },
   "outputs": [
    {
     "data": {
      "text/html": [
       "\n",
       "<div id=\"altair-viz-057cf6827f284337b21346fbcf5343b4\"></div>\n",
       "<script type=\"text/javascript\">\n",
       "  var VEGA_DEBUG = (typeof VEGA_DEBUG == \"undefined\") ? {} : VEGA_DEBUG;\n",
       "  (function(spec, embedOpt){\n",
       "    let outputDiv = document.currentScript.previousElementSibling;\n",
       "    if (outputDiv.id !== \"altair-viz-057cf6827f284337b21346fbcf5343b4\") {\n",
       "      outputDiv = document.getElementById(\"altair-viz-057cf6827f284337b21346fbcf5343b4\");\n",
       "    }\n",
       "    const paths = {\n",
       "      \"vega\": \"https://cdn.jsdelivr.net/npm//vega@5?noext\",\n",
       "      \"vega-lib\": \"https://cdn.jsdelivr.net/npm//vega-lib?noext\",\n",
       "      \"vega-lite\": \"https://cdn.jsdelivr.net/npm//vega-lite@4.17.0?noext\",\n",
       "      \"vega-embed\": \"https://cdn.jsdelivr.net/npm//vega-embed@6?noext\",\n",
       "    };\n",
       "\n",
       "    function maybeLoadScript(lib, version) {\n",
       "      var key = `${lib.replace(\"-\", \"\")}_version`;\n",
       "      return (VEGA_DEBUG[key] == version) ?\n",
       "        Promise.resolve(paths[lib]) :\n",
       "        new Promise(function(resolve, reject) {\n",
       "          var s = document.createElement('script');\n",
       "          document.getElementsByTagName(\"head\")[0].appendChild(s);\n",
       "          s.async = true;\n",
       "          s.onload = () => {\n",
       "            VEGA_DEBUG[key] = version;\n",
       "            return resolve(paths[lib]);\n",
       "          };\n",
       "          s.onerror = () => reject(`Error loading script: ${paths[lib]}`);\n",
       "          s.src = paths[lib];\n",
       "        });\n",
       "    }\n",
       "\n",
       "    function showError(err) {\n",
       "      outputDiv.innerHTML = `<div class=\"error\" style=\"color:red;\">${err}</div>`;\n",
       "      throw err;\n",
       "    }\n",
       "\n",
       "    function displayChart(vegaEmbed) {\n",
       "      vegaEmbed(outputDiv, spec, embedOpt)\n",
       "        .catch(err => showError(`Javascript Error: ${err.message}<br>This usually means there's a typo in your chart specification. See the javascript console for the full traceback.`));\n",
       "    }\n",
       "\n",
       "    if(typeof define === \"function\" && define.amd) {\n",
       "      requirejs.config({paths});\n",
       "      require([\"vega-embed\"], displayChart, err => showError(`Error loading script: ${err.message}`));\n",
       "    } else {\n",
       "      maybeLoadScript(\"vega\", \"5\")\n",
       "        .then(() => maybeLoadScript(\"vega-lite\", \"4.17.0\"))\n",
       "        .then(() => maybeLoadScript(\"vega-embed\", \"6\"))\n",
       "        .catch(showError)\n",
       "        .then(() => displayChart(vegaEmbed));\n",
       "    }\n",
       "  })({\"config\": {\"view\": {\"continuousWidth\": 400, \"continuousHeight\": 300}}, \"data\": {\"values\": [{\"price\": 90900}, {\"price\": 56990}, {\"price\": 33990}, {\"price\": 38990}, {\"price\": 36899}, {\"price\": 44890}, {\"price\": 44999}, {\"price\": 28890}, {\"price\": 67890}, {\"price\": 40899}, {\"price\": 59100}, {\"price\": 47890}, {\"price\": 44980}, {\"price\": 45990}, {\"price\": 60990}, {\"price\": 56990}, {\"price\": 56999}, {\"price\": 26890}, {\"price\": 24899}, {\"price\": 75890}, {\"price\": 27990}, {\"price\": 28399}, {\"price\": 42400}, {\"price\": 83499}, {\"price\": 64999}, {\"price\": 41899}, {\"price\": 57350}, {\"price\": 51650}, {\"price\": 36990}, {\"price\": 27990}, {\"price\": 40990}, {\"price\": 77890}, {\"price\": 32890}, {\"price\": 56790}, {\"price\": 37890}, {\"price\": 94990}, {\"price\": 89990}, {\"price\": 61990}, {\"price\": 48990}, {\"price\": 71890}, {\"price\": 64890}, {\"price\": 43916}, {\"price\": 58990}, {\"price\": 54890}, {\"price\": 43890}, {\"price\": 51890}, {\"price\": 27890}, {\"price\": 55990}, {\"price\": 26890}, {\"price\": 30990}, {\"price\": 29890}, {\"price\": 35999}, {\"price\": 55490}, {\"price\": 60990}, {\"price\": 109890}, {\"price\": 45890}, {\"price\": 68990}, {\"price\": 39990}, {\"price\": 59990}, {\"price\": 50890}, {\"price\": 64890}, {\"price\": 43916}, {\"price\": 58990}, {\"price\": 54890}, {\"price\": 43890}, {\"price\": 51890}, {\"price\": 27890}, {\"price\": 55990}, {\"price\": 26890}, {\"price\": 30990}, {\"price\": 29890}, {\"price\": 35999}, {\"price\": 55490}, {\"price\": 60990}, {\"price\": 109890}, {\"price\": 45890}, {\"price\": 68990}, {\"price\": 39990}, {\"price\": 59990}, {\"price\": 50890}, {\"price\": 38306}, {\"price\": 39889}, {\"price\": 22890}, {\"price\": 49990}, {\"price\": 63990}, {\"price\": 57990}, {\"price\": 111890}, {\"price\": 32390}, {\"price\": 55900}, {\"price\": 52999}, {\"price\": 79990}, {\"price\": 23831}, {\"price\": 58890}, {\"price\": 42190}, {\"price\": 35900}, {\"price\": 30990}, {\"price\": 34890}, {\"price\": 40990}, {\"price\": 39890}, {\"price\": 34880}, {\"price\": 59990}, {\"price\": 52925}, {\"price\": 77890}, {\"price\": 51990}, {\"price\": 65890}, {\"price\": 59999}, {\"price\": 60990}, {\"price\": 72990}, {\"price\": 37999}, {\"price\": 50990}, {\"price\": 23990}, {\"price\": 67890}, {\"price\": 37990}, {\"price\": 57990}, {\"price\": 19990}, {\"price\": 60890}, {\"price\": 33990}, {\"price\": 19034}, {\"price\": 34990}, {\"price\": 63890}, {\"price\": 23890}, {\"price\": 71940}, {\"price\": 42849}, {\"price\": 31390}, {\"price\": 52399}, {\"price\": 51999}, {\"price\": 37700}, {\"price\": 44500}, {\"price\": 38890}, {\"price\": 44890}, {\"price\": 38890}, {\"price\": 63600}, {\"price\": 20700}, {\"price\": 52991}, {\"price\": 28800}, {\"price\": 23990}, {\"price\": 42890}, {\"price\": 55900}, {\"price\": 56990}, {\"price\": 41890}, {\"price\": 51990}, {\"price\": 41990}, {\"price\": 67890}, {\"price\": 32990}, {\"price\": 50990}, {\"price\": 44890}, {\"price\": 59990}, {\"price\": 43890}, {\"price\": 95500}, {\"price\": 69990}, {\"price\": 20990}, {\"price\": 43200}, {\"price\": 39890}, {\"price\": 30499}, {\"price\": 28990}, {\"price\": 48999}, {\"price\": 52990}, {\"price\": 99344}, {\"price\": 49990}, {\"price\": 33990}, {\"price\": 54890}, {\"price\": 49990}, {\"price\": 31490}, {\"price\": 62726}, {\"price\": 49940}, {\"price\": 64990}, {\"price\": 59999}, {\"price\": 79990}, {\"price\": 18349}, {\"price\": 89890}, {\"price\": 50990}, {\"price\": 37999}, {\"price\": 16890}, {\"price\": 93890}, {\"price\": 85000}, {\"price\": 62400}, {\"price\": 71999}, {\"price\": 62799}, {\"price\": 38889}, {\"price\": 98000}, {\"price\": 36490}, {\"price\": 61490}, {\"price\": 110890}, {\"price\": 62500}, {\"price\": 32390}, {\"price\": 55890}, {\"price\": 69890}, {\"price\": 64000}, {\"price\": 44980}, {\"price\": 45890}, {\"price\": 54990}, {\"price\": 27990}, {\"price\": 81990}, {\"price\": 80800}, {\"price\": 42800}, {\"price\": 69029}, {\"price\": 33124}, {\"price\": 65100}, {\"price\": 65800}, {\"price\": 46999}, {\"price\": 36990}, {\"price\": 64100}, {\"price\": 62999}, {\"price\": 59150}, {\"price\": 33190}, {\"price\": 20591}, {\"price\": 33790}, {\"price\": 41600}, {\"price\": 69000}, {\"price\": 57990}, {\"price\": 60890}, {\"price\": 40990}, {\"price\": 49990}, {\"price\": 53490}, {\"price\": 96900}, {\"price\": 44519}, {\"price\": 110390}, {\"price\": 32750}, {\"price\": 35099}, {\"price\": 31990}, {\"price\": 79890}, {\"price\": 53890}, {\"price\": 36990}, {\"price\": 53990}, {\"price\": 65000}, {\"price\": 62990}, {\"price\": 20390}, {\"price\": 39210}, {\"price\": 52990}, {\"price\": 33390}, {\"price\": 48890}, {\"price\": 114890}, {\"price\": 47990}, {\"price\": 66400}, {\"price\": 129890}, {\"price\": 86390}, {\"price\": 89890}, {\"price\": 74990}, {\"price\": 64899}, {\"price\": 59990}, {\"price\": 111590}, {\"price\": 86223}, {\"price\": 45637}, {\"price\": 73490}, {\"price\": 105990}, {\"price\": 64990}, {\"price\": 84890}, {\"price\": 134999}, {\"price\": 47890}, {\"price\": 20400}, {\"price\": 135999}, {\"price\": 72390}, {\"price\": 89890}, {\"price\": 40400}, {\"price\": 40090}, {\"price\": 144500}, {\"price\": 97890}, {\"price\": 44000}, {\"price\": 59710}, {\"price\": 85500}, {\"price\": 32890}, {\"price\": 45850}, {\"price\": 89999}, {\"price\": 45890}, {\"price\": 79999}, {\"price\": 62999}, {\"price\": 49890}, {\"price\": 41300}, {\"price\": 47890}, {\"price\": 20400}, {\"price\": 135999}, {\"price\": 72390}, {\"price\": 89890}, {\"price\": 40400}, {\"price\": 40090}, {\"price\": 144500}, {\"price\": 97890}, {\"price\": 44000}, {\"price\": 59710}, {\"price\": 85500}, {\"price\": 32890}, {\"price\": 45850}, {\"price\": 89999}, {\"price\": 45890}, {\"price\": 79999}, {\"price\": 62999}, {\"price\": 49890}, {\"price\": 41300}, {\"price\": 47890}, {\"price\": 20400}, {\"price\": 135999}, {\"price\": 72390}, {\"price\": 89890}, {\"price\": 40400}, {\"price\": 40090}, {\"price\": 144500}, {\"price\": 97890}, {\"price\": 44000}, {\"price\": 59710}, {\"price\": 85500}, {\"price\": 32890}, {\"price\": 45850}, {\"price\": 89999}, {\"price\": 45890}, {\"price\": 79999}, {\"price\": 62999}, {\"price\": 49890}, {\"price\": 41300}, {\"price\": 47890}, {\"price\": 20400}, {\"price\": 135999}, {\"price\": 72390}, {\"price\": 89890}, {\"price\": 40400}, {\"price\": 40090}, {\"price\": 144500}, {\"price\": 97890}, {\"price\": 44000}, {\"price\": 59710}, {\"price\": 85500}, {\"price\": 32890}, {\"price\": 45850}, {\"price\": 89999}, {\"price\": 45890}, {\"price\": 79999}, {\"price\": 62999}, {\"price\": 49890}, {\"price\": 41300}, {\"price\": 78899}, {\"price\": 75000}, {\"price\": 149900}, {\"price\": 42250}, {\"price\": 21999}, {\"price\": 54890}, {\"price\": 49990}, {\"price\": 36490}, {\"price\": 99490}, {\"price\": 25090}, {\"price\": 87890}, {\"price\": 44000}, {\"price\": 75550}, {\"price\": 57800}, {\"price\": 99890}, {\"price\": 73990}, {\"price\": 58890}, {\"price\": 52299}, {\"price\": 70990}, {\"price\": 35888}, {\"price\": 38900}, {\"price\": 53500}, {\"price\": 56990}, {\"price\": 154990}, {\"price\": 59400}, {\"price\": 47200}, {\"price\": 29490}, {\"price\": 80990}, {\"price\": 52693}, {\"price\": 28500}, {\"price\": 43190}, {\"price\": 68990}, {\"price\": 116950}, {\"price\": 22990}, {\"price\": 35999}, {\"price\": 227890}, {\"price\": 64990}, {\"price\": 40171}, {\"price\": 47890}, {\"price\": 46990}, {\"price\": 36900}, {\"price\": 29632}, {\"price\": 54890}, {\"price\": 49890}, {\"price\": 70500}, {\"price\": 46380}, {\"price\": 122500}, {\"price\": 65500}, {\"price\": 49990}, {\"price\": 39990}, {\"price\": 44890}, {\"price\": 76019}, {\"price\": 88600}, {\"price\": 118613}, {\"price\": 40741}, {\"price\": 72999}, {\"price\": 24999}, {\"price\": 109990}, {\"price\": 62890}, {\"price\": 124000}, {\"price\": 36900}, {\"price\": 29632}, {\"price\": 54890}, {\"price\": 49890}, {\"price\": 70500}, {\"price\": 46380}, {\"price\": 122500}, {\"price\": 65500}, {\"price\": 49990}, {\"price\": 39990}, {\"price\": 44890}, {\"price\": 76019}, {\"price\": 88600}, {\"price\": 118613}, {\"price\": 40741}, {\"price\": 72999}, {\"price\": 24999}, {\"price\": 109990}, {\"price\": 62890}, {\"price\": 124000}, {\"price\": 48990}, {\"price\": 60990}, {\"price\": 59500}, {\"price\": 45441}, {\"price\": 103000}, {\"price\": 47900}, {\"price\": 68790}, {\"price\": 29900}, {\"price\": 18790}, {\"price\": 76044}, {\"price\": 58000}, {\"price\": 57890}, {\"price\": 55800}, {\"price\": 60500}, {\"price\": 50890}, {\"price\": 38090}, {\"price\": 57999}, {\"price\": 58000}, {\"price\": 69000}, {\"price\": 76250}, {\"price\": 41990}, {\"price\": 31370}, {\"price\": 43750}, {\"price\": 87543}, {\"price\": 64500}, {\"price\": 28890}, {\"price\": 89890}, {\"price\": 114890}, {\"price\": 58900}, {\"price\": 61500}, {\"price\": 60500}, {\"price\": 26890}, {\"price\": 50250}, {\"price\": 62000}, {\"price\": 52990}, {\"price\": 37800}, {\"price\": 41290}, {\"price\": 47530}, {\"price\": 71200}, {\"price\": 63000}, {\"price\": 52910}, {\"price\": 82090}, {\"price\": 28399}, {\"price\": 79890}, {\"price\": 89990}, {\"price\": 23990}, {\"price\": 40900}, {\"price\": 51890}, {\"price\": 46999}, {\"price\": 53990}, {\"price\": 42390}, {\"price\": 35957}, {\"price\": 39990}, {\"price\": 68990}, {\"price\": 43964}, {\"price\": 172000}, {\"price\": 42900}, {\"price\": 62990}, {\"price\": 49500}, {\"price\": 37000}, {\"price\": 67990}, {\"price\": 84890}, {\"price\": 60663}, {\"price\": 129900}, {\"price\": 89800}, {\"price\": 65990}, {\"price\": 64800}, {\"price\": 120990}, {\"price\": 42990}, {\"price\": 139999}, {\"price\": 57999}, {\"price\": 48000}, {\"price\": 43749}, {\"price\": 74000}, {\"price\": 42999}, {\"price\": 55000}, {\"price\": 37990}, {\"price\": 62400}, {\"price\": 45690}, {\"price\": 57400}, {\"price\": 60700}, {\"price\": 75350}, {\"price\": 29890}, {\"price\": 37460}, {\"price\": 94499}, {\"price\": 59700}, {\"price\": 34490}, {\"price\": 66000}, {\"price\": 50990}, {\"price\": 31890}, {\"price\": 57990}, {\"price\": 39990}, {\"price\": 97890}, {\"price\": 109890}, {\"price\": 129890}, {\"price\": 123390}, {\"price\": 26890}, {\"price\": 42000}, {\"price\": 42990}, {\"price\": 52700}, {\"price\": 43800}, {\"price\": 146309}, {\"price\": 78000}, {\"price\": 68250}, {\"price\": 19621}, {\"price\": 49500}, {\"price\": 37990}, {\"price\": 58990}, {\"price\": 25199}, {\"price\": 59799}, {\"price\": 58890}, {\"price\": 73999}, {\"price\": 27890}, {\"price\": 94500}, {\"price\": 56490}, {\"price\": 36990}, {\"price\": 74000}, {\"price\": 54990}, {\"price\": 49740}, {\"price\": 54799}, {\"price\": 151818}, {\"price\": 33890}, {\"price\": 45400}, {\"price\": 62990}, {\"price\": 35090}, {\"price\": 69990}, {\"price\": 37390}, {\"price\": 77890}, {\"price\": 41890}, {\"price\": 60930}, {\"price\": 96108}, {\"price\": 26790}, {\"price\": 96990}, {\"price\": 91890}, {\"price\": 37890}, {\"price\": 47890}, {\"price\": 125890}, {\"price\": 26990}, {\"price\": 134090}, {\"price\": 149890}, {\"price\": 53361}, {\"price\": 45861}, {\"price\": 71990}, {\"price\": 65000}, {\"price\": 70250}, {\"price\": 95390}, {\"price\": 41700}, {\"price\": 79900}, {\"price\": 36990}, {\"price\": 63890}, {\"price\": 28990}, {\"price\": 66150}, {\"price\": 36555}, {\"price\": 58890}, {\"price\": 41490}, {\"price\": 55990}, {\"price\": 18154}, {\"price\": 21390}, {\"price\": 76080}, {\"price\": 106990}, {\"price\": 51790}, {\"price\": 69490}, {\"price\": 43690}, {\"price\": 83500}, {\"price\": 63990}, {\"price\": 66490}, {\"price\": 57000}, {\"price\": 77490}, {\"price\": 96490}, {\"price\": 110490}, {\"price\": 102000}, {\"price\": 108990}, {\"price\": 68990}, {\"price\": 84199}, {\"price\": 78890}, {\"price\": 79999}, {\"price\": 94890}, {\"price\": 29900}, {\"price\": 33856}, {\"price\": 54990}, {\"price\": 39990}, {\"price\": 33402}, {\"price\": 39000}, {\"price\": 53990}, {\"price\": 69990}, {\"price\": 26990}, {\"price\": 58890}, {\"price\": 44900}, {\"price\": 41900}, {\"price\": 53990}, {\"price\": 75990}, {\"price\": 182890}, {\"price\": 51700}, {\"price\": 49800}, {\"price\": 60500}, {\"price\": 69950}, {\"price\": 56690}, {\"price\": 65400}, {\"price\": 53650}, {\"price\": 68500}, {\"price\": 39889}, {\"price\": 69800}, {\"price\": 85700}, {\"price\": 52999}, {\"price\": 58980}, {\"price\": 159999}, {\"price\": 40700}, {\"price\": 64990}, {\"price\": 56000}, {\"price\": 27490}, {\"price\": 34500}, {\"price\": 75100}, {\"price\": 68900}, {\"price\": 49890}, {\"price\": 30500}, {\"price\": 60990}, {\"price\": 79990}, {\"price\": 116890}, {\"price\": 74398}, {\"price\": 39990}, {\"price\": 87790}, {\"price\": 114890}, {\"price\": 35999}, {\"price\": 134080}, {\"price\": 37999}, {\"price\": 49899}, {\"price\": 44990}, {\"price\": 50999}, {\"price\": 74700}, {\"price\": 41000}, {\"price\": 86879}, {\"price\": 74999}, {\"price\": 29816}, {\"price\": 43990}, {\"price\": 51490}, {\"price\": 64000}, {\"price\": 78890}, {\"price\": 80400}, {\"price\": 67100}, {\"price\": 63000}, {\"price\": 99990}, {\"price\": 51200}, {\"price\": 44700}, {\"price\": 43900}, {\"price\": 37700}, {\"price\": 65990}, {\"price\": 47000}, {\"price\": 72900}, {\"price\": 82000}, {\"price\": 69800}, {\"price\": 36889}, {\"price\": 74899}, {\"price\": 57990}, {\"price\": 64990}, {\"price\": 62000}, {\"price\": 43200}, {\"price\": 61000}, {\"price\": 28999}, {\"price\": 82990}, {\"price\": 49000}, {\"price\": 99990}, {\"price\": 51200}, {\"price\": 44700}, {\"price\": 43900}, {\"price\": 37700}, {\"price\": 65990}, {\"price\": 47000}, {\"price\": 72900}, {\"price\": 82000}, {\"price\": 69800}, {\"price\": 36889}, {\"price\": 74899}, {\"price\": 57990}, {\"price\": 64990}, {\"price\": 62000}, {\"price\": 43200}, {\"price\": 61000}, {\"price\": 28999}, {\"price\": 82990}, {\"price\": 49000}, {\"price\": 39076}, {\"price\": 75279}, {\"price\": 59990}, {\"price\": 28990}, {\"price\": 151490}, {\"price\": 94890}, {\"price\": 39292}, {\"price\": 79890}, {\"price\": 136890}, {\"price\": 56290}, {\"price\": 37990}, {\"price\": 59999}, {\"price\": 115890}, {\"price\": 49980}, {\"price\": 102990}, {\"price\": 59450}, {\"price\": 51999}, {\"price\": 169990}, {\"price\": 144890}, {\"price\": 129899}, {\"price\": 44400}, {\"price\": 71310}, {\"price\": 24680}, {\"price\": 49570}, {\"price\": 31419}, {\"price\": 20900}, {\"price\": 61999}, {\"price\": 82000}, {\"price\": 101990}, {\"price\": 50890}, {\"price\": 58900}, {\"price\": 14999}, {\"price\": 58000}, {\"price\": 73999}, {\"price\": 73999}, {\"price\": 79500}, {\"price\": 12990}, {\"price\": 67700}, {\"price\": 38100}, {\"price\": 36990}, {\"price\": 46410}, {\"price\": 52999}, {\"price\": 46794}, {\"price\": 82500}, {\"price\": 67500}, {\"price\": 87290}, {\"price\": 74150}, {\"price\": 52999}, {\"price\": 62900}, {\"price\": 60900}, {\"price\": 79500}, {\"price\": 56300}, {\"price\": 74900}, {\"price\": 51800}, {\"price\": 63494}, {\"price\": 147400}, {\"price\": 34999}, {\"price\": 59899}, {\"price\": 46000}, {\"price\": 71100}, {\"price\": 69990}, {\"price\": 54990}, {\"price\": 62990}, {\"price\": 129890}, {\"price\": 55975}, {\"price\": 55500}, {\"price\": 58890}, {\"price\": 39500}, {\"price\": 114490}, {\"price\": 34500}, {\"price\": 80206}, {\"price\": 39500}, {\"price\": 30000}, {\"price\": 34000}, {\"price\": 81990}, {\"price\": 41550}, {\"price\": 87750}, {\"price\": 124994}, {\"price\": 75500}, {\"price\": 62994}, {\"price\": 26849}, {\"price\": 81999}, {\"price\": 37800}, {\"price\": 119600}, {\"price\": 35939}, {\"price\": 45999}, {\"price\": 191999}, {\"price\": 84990}, {\"price\": 45990}, {\"price\": 70900}, {\"price\": 87200}, {\"price\": 46999}, {\"price\": 74600}, {\"price\": 70790}, {\"price\": 84499}, {\"price\": 68635}, {\"price\": 39000}, {\"price\": 75500}, {\"price\": 89790}, {\"price\": 33770}, {\"price\": 102000}, {\"price\": 78500}, {\"price\": 84000}, {\"price\": 131999}, {\"price\": 31990}, {\"price\": 59950}, {\"price\": 48890}, {\"price\": 95490}, {\"price\": 66000}, {\"price\": 65990}, {\"price\": 63900}, {\"price\": 72990}, {\"price\": 269890}, {\"price\": 54890}, {\"price\": 48880}, {\"price\": 34990}, {\"price\": 74990}, {\"price\": 82500}, {\"price\": 69490}, {\"price\": 78790}, {\"price\": 48499}, {\"price\": 113300}, {\"price\": 39990}, {\"price\": 47999}, {\"price\": 269890}, {\"price\": 54890}, {\"price\": 34990}, {\"price\": 74990}, {\"price\": 82500}, {\"price\": 69490}, {\"price\": 78790}, {\"price\": 264990}, {\"price\": 48499}, {\"price\": 113300}, {\"price\": 39990}, {\"price\": 47999}, {\"price\": 58990}, {\"price\": 76379}, {\"price\": 92990}, {\"price\": 49500}, {\"price\": 89990}, {\"price\": 74000}, {\"price\": 57209}, {\"price\": 64994}, {\"price\": 55000}, {\"price\": 38840}, {\"price\": 161632}, {\"price\": 230637}, {\"price\": 100500}, {\"price\": 38000}, {\"price\": 73999}, {\"price\": 35999}, {\"price\": 29890}, {\"price\": 123399}, {\"price\": 63900}, {\"price\": 69990}, {\"price\": 79500}, {\"price\": 94994}, {\"price\": 89999}, {\"price\": 162890}, {\"price\": 37290}, {\"price\": 72990}, {\"price\": 92290}, {\"price\": 89990}, {\"price\": 87990}, {\"price\": 28771}, {\"price\": 66490}, {\"price\": 33899}, {\"price\": 47490}, {\"price\": 54300}, {\"price\": 28250}, {\"price\": 72500}, {\"price\": 39852}, {\"price\": 68890}, {\"price\": 71990}, {\"price\": 57450}, {\"price\": 29911}, {\"price\": 393323}, {\"price\": 51490}, {\"price\": 91890}, {\"price\": 65100}, {\"price\": 37890}, {\"price\": 155318}, {\"price\": 274293}, {\"price\": 103890}, {\"price\": 76999}, {\"price\": 58800}, {\"price\": 92500}, {\"price\": 42990}, {\"price\": 72889}, {\"price\": 46990}, {\"price\": 97755}, {\"price\": 93000}, {\"price\": 29291}, {\"price\": 134181}, {\"price\": 40290}, {\"price\": 74490}, {\"price\": 28490}, {\"price\": 97685}, {\"price\": 139500}, {\"price\": 51890}, {\"price\": 37890}, {\"price\": 155318}, {\"price\": 274293}, {\"price\": 103890}, {\"price\": 76999}, {\"price\": 58800}, {\"price\": 92500}, {\"price\": 42990}, {\"price\": 72889}, {\"price\": 46990}, {\"price\": 97755}, {\"price\": 93000}, {\"price\": 29291}, {\"price\": 134181}, {\"price\": 40290}, {\"price\": 74490}, {\"price\": 28490}, {\"price\": 97685}, {\"price\": 139500}, {\"price\": 51890}, {\"price\": 37890}, {\"price\": 155318}, {\"price\": 274293}, {\"price\": 103890}, {\"price\": 76999}, {\"price\": 58800}, {\"price\": 92500}, {\"price\": 42990}, {\"price\": 72889}, {\"price\": 46990}, {\"price\": 97755}, {\"price\": 93000}, {\"price\": 29291}, {\"price\": 134181}, {\"price\": 40290}, {\"price\": 74490}, {\"price\": 28490}, {\"price\": 97685}, {\"price\": 139500}, {\"price\": 51890}, {\"price\": 37890}, {\"price\": 155318}, {\"price\": 274293}, {\"price\": 103890}, {\"price\": 76999}, {\"price\": 58800}, {\"price\": 92500}, {\"price\": 42990}, {\"price\": 72889}, {\"price\": 46990}, {\"price\": 97755}, {\"price\": 93000}, {\"price\": 29291}, {\"price\": 134181}, {\"price\": 40290}, {\"price\": 74490}, {\"price\": 28490}, {\"price\": 97685}, {\"price\": 139500}, {\"price\": 51890}, {\"price\": 37890}, {\"price\": 155318}, {\"price\": 274293}, {\"price\": 103890}, {\"price\": 76999}, {\"price\": 58800}, {\"price\": 92500}, {\"price\": 42990}, {\"price\": 72889}, {\"price\": 46990}, {\"price\": 97755}, {\"price\": 93000}, {\"price\": 29291}, {\"price\": 134181}, {\"price\": 40290}, {\"price\": 74490}, {\"price\": 28490}, {\"price\": 97685}, {\"price\": 139500}, {\"price\": 51890}, {\"price\": 37890}, {\"price\": 155318}, {\"price\": 274293}, {\"price\": 103890}, {\"price\": 76999}, {\"price\": 58800}, {\"price\": 92500}, {\"price\": 42990}, {\"price\": 72889}, {\"price\": 46990}, {\"price\": 97755}, {\"price\": 93000}, {\"price\": 29291}, {\"price\": 134181}, {\"price\": 40290}, {\"price\": 74490}, {\"price\": 28490}, {\"price\": 97685}, {\"price\": 139500}, {\"price\": 51890}, {\"price\": 99990}, {\"price\": 48990}, {\"price\": 58990}, {\"price\": 109890}, {\"price\": 57299}, {\"price\": 129615}, {\"price\": 26990}, {\"price\": 51990}, {\"price\": 61290}, {\"price\": 52990}, {\"price\": 69990}, {\"price\": 89990}, {\"price\": 91990}, {\"price\": 249990}, {\"price\": 145000}, {\"price\": 146591}, {\"price\": 44940}, {\"price\": 38999}, {\"price\": 62700}, {\"price\": 108390}, {\"price\": 99990}, {\"price\": 48990}, {\"price\": 58990}, {\"price\": 109890}, {\"price\": 57299}, {\"price\": 129615}, {\"price\": 26990}, {\"price\": 51990}, {\"price\": 61290}, {\"price\": 52990}, {\"price\": 69990}, {\"price\": 89990}, {\"price\": 91990}, {\"price\": 249990}, {\"price\": 145000}, {\"price\": 146591}, {\"price\": 44940}, {\"price\": 38999}, {\"price\": 62700}, {\"price\": 108390}, {\"price\": 142940}, {\"price\": 148000}, {\"price\": 52999}, {\"price\": 84190}, {\"price\": 41200}, {\"price\": 108990}, {\"price\": 139990}, {\"price\": 137900}, {\"price\": 199990}, {\"price\": 56253}, {\"price\": 76980}, {\"price\": 74000}, {\"price\": 225989}, {\"price\": 108890}, {\"price\": 49999}, {\"price\": 59999}, {\"price\": 165016}, {\"price\": 96960}, {\"price\": 234990}, {\"price\": 119350}, {\"price\": 103500}, {\"price\": 89999}, {\"price\": 45990}, {\"price\": 42200}, {\"price\": 105890}, {\"price\": 59890}, {\"price\": 117990}, {\"price\": 69890}, {\"price\": 135999}, {\"price\": 74999}, {\"price\": 64990}, {\"price\": 151000}, {\"price\": 141990}, {\"price\": 42850}, {\"price\": 82850}, {\"price\": 138999}, {\"price\": 99400}, {\"price\": 74999}, {\"price\": 69251}, {\"price\": 54990}, {\"price\": 146390}, {\"price\": 49900}, {\"price\": 76890}, {\"price\": 349990}, {\"price\": 129900}, {\"price\": 167990}, {\"price\": 49990}, {\"price\": 169990}, {\"price\": 158999}, {\"price\": 75999}, {\"price\": 119900}, {\"price\": 74990}, {\"price\": 79990}, {\"price\": 78500}, {\"price\": 42790}, {\"price\": 57499}, {\"price\": 91999}, {\"price\": 158999}, {\"price\": 324989}, {\"price\": 49999}, {\"price\": 53990}, {\"price\": 110857}, {\"price\": 120990}, {\"price\": 51999}, {\"price\": 74500}, {\"price\": 68000}, {\"price\": 46499}, {\"price\": 52990}, {\"price\": 68999}, {\"price\": 84000}, {\"price\": 162999}, {\"price\": 84990}, {\"price\": 99720}, {\"price\": 36900}, {\"price\": 45990}, {\"price\": 32990}, {\"price\": 25390}, {\"price\": 18899}, {\"price\": 119421}, {\"price\": 56697}, {\"price\": 53990}, {\"price\": 110857}, {\"price\": 120990}, {\"price\": 51999}, {\"price\": 74500}, {\"price\": 68000}, {\"price\": 46499}, {\"price\": 52990}, {\"price\": 68999}, {\"price\": 84000}, {\"price\": 162999}, {\"price\": 84990}, {\"price\": 99720}, {\"price\": 36900}, {\"price\": 45990}, {\"price\": 32990}, {\"price\": 25390}, {\"price\": 18899}, {\"price\": 119421}, {\"price\": 56697}, {\"price\": 17291}, {\"price\": 31980}, {\"price\": 95500}, {\"price\": 44999}, {\"price\": 46999}, {\"price\": 33390}, {\"price\": 40781}, {\"price\": 59990}, {\"price\": 75000}, {\"price\": 105000}, {\"price\": 35990}, {\"price\": 40490}, {\"price\": 63849}, {\"price\": 58600}, {\"price\": 37990}, {\"price\": 46750}, {\"price\": 60500}, {\"price\": 53994}, {\"price\": 28550}, {\"price\": 28890}, {\"price\": 28399}, {\"price\": 44900}]}, \"mark\": \"area\", \"encoding\": {\"x\": {\"field\": \"price\", \"type\": \"quantitative\"}, \"y\": {\"field\": \"density\", \"type\": \"quantitative\"}}, \"transform\": [{\"density\": \"price\", \"as\": [\"price\", \"density\"]}], \"$schema\": \"https://vega.github.io/schema/vega-lite/v4.17.0.json\"}, {\"mode\": \"vega-lite\"});\n",
       "</script>"
      ],
      "text/plain": [
       "alt.Chart(...)"
      ]
     },
     "execution_count": 12,
     "metadata": {},
     "output_type": "execute_result"
    }
   ],
   "source": [
    "prices = [r[\"price\"] for r in all_laptops]\n",
    "ds = alt.Data(values=[{\"price\": p} for p in prices])\n",
    "alt.Chart(ds).transform_density(\"price\", as_=[\"price\", \"density\"]).mark_area().encode(\n",
    "    x=\"price:Q\", y=\"density:Q\"\n",
    ")"
   ]
  },
  {
   "cell_type": "markdown",
   "id": "ab58b2c4-a8fe-448a-aad7-f7eaa1416d1d",
   "metadata": {},
   "source": [
    "Multiple peaks would have made bucketing easier. Lets also look at the percentiles. "
   ]
  },
  {
   "cell_type": "code",
   "execution_count": 13,
   "id": "ecb853b7-3659-4569-850d-8389bd6c6339",
   "metadata": {},
   "outputs": [
    {
     "data": {
      "text/plain": [
       "array([ 42990.,  58980.,  80895., 115890.])"
      ]
     },
     "execution_count": 13,
     "metadata": {},
     "output_type": "execute_result"
    }
   ],
   "source": [
    "np.percentile(prices, [25, 50, 75, 90])"
   ]
  },
  {
   "cell_type": "markdown",
   "id": "086b5744-fba8-4343-a931-8cae80e7450f",
   "metadata": {},
   "source": [
    "Hmm, the relevant question could be, \n",
    "\n",
    "```\n",
    "How much do you estimate to spend? \n",
    "- less than 40k\n",
    "- 50-70k\n",
    "- 80-100k\n",
    "- price is no bar\n",
    "```"
   ]
  },
  {
   "cell_type": "markdown",
   "id": "a239e362-98f8-4394-897f-d0c554156fdb",
   "metadata": {},
   "source": [
    "After this, other attributes to seek preference on could be - \n",
    "* Display size and resolution\n",
    "* amount of RAM/storage\n",
    "* num of years of warranty\n",
    "* how long the battery lasts (approximating it with num of cells)\n",
    "* dedicated GPU and its specs"
   ]
  },
  {
   "cell_type": "markdown",
   "id": "a62b03d2-3982-4d05-b74c-288f45fbad5c",
   "metadata": {},
   "source": [
    "#### Display size"
   ]
  },
  {
   "cell_type": "code",
   "execution_count": 14,
   "id": "0d32094b-bdc9-4185-b7aa-f9d727daa4c6",
   "metadata": {
    "scrolled": true,
    "tags": []
   },
   "outputs": [
    {
     "data": {
      "text/plain": [
       "Counter({13.3: 90,\n",
       "         15.6: 613,\n",
       "         14.0: 360,\n",
       "         17.3: 20,\n",
       "         14.1: 8,\n",
       "         11.6: 18,\n",
       "         16.1: 8,\n",
       "         16.6: 1,\n",
       "         14.9: 1,\n",
       "         16.0: 7,\n",
       "         15.0: 7,\n",
       "         16.2: 1,\n",
       "         12.3: 3,\n",
       "         14.2: 1,\n",
       "         13.4: 4,\n",
       "         13.0: 1,\n",
       "         10.0: 1,\n",
       "         12.5: 3,\n",
       "         13.5: 2,\n",
       "         15.2: 2})"
      ]
     },
     "execution_count": 14,
     "metadata": {},
     "output_type": "execute_result"
    }
   ],
   "source": [
    "Counter([r[\"display_size\"] for r in all_laptops])"
   ]
  },
  {
   "cell_type": "markdown",
   "id": "f0c7e540-395b-471a-bea9-a1c5edeac33a",
   "metadata": {},
   "source": [
    "```\n",
    "Do you have a screen size preference?\n",
    "- compact, 13 inch or lower\n",
    "- around 14 inches \n",
    "- around 15 inches\n",
    "- Larger than 15 inches\n",
    "```"
   ]
  },
  {
   "cell_type": "markdown",
   "id": "8084c91d-8795-4ca8-bf42-068227068298",
   "metadata": {},
   "source": [
    "#### Display resolution"
   ]
  },
  {
   "cell_type": "code",
   "execution_count": 15,
   "id": "dfecbb7a-1c69-43f7-a327-71724bce1213",
   "metadata": {
    "scrolled": true,
    "tags": []
   },
   "outputs": [
    {
     "data": {
      "text/plain": [
       "Counter({(2560, 1600): 16,\n",
       "         (1920, 1080): 927,\n",
       "         (2160, 1440): 3,\n",
       "         (1366, 768): 137,\n",
       "         (2880, 1800): 13,\n",
       "         (2560, 1440): 18,\n",
       "         (1440, 900): 1,\n",
       "         (1920, 1200): 6,\n",
       "         (3456, 2234): 1,\n",
       "         (2736, 1824): 3,\n",
       "         (2256, 1504): 1,\n",
       "         (3000, 2000): 1,\n",
       "         (1800, 1200): 1,\n",
       "         (2240, 1400): 1,\n",
       "         (1920, 1280): 1,\n",
       "         (3840, 2160): 8,\n",
       "         (2496, 1664): 1,\n",
       "         (1600, 900): 6,\n",
       "         (3840, 2400): 3,\n",
       "         (3200, 1800): 1,\n",
       "         (1280, 800): 2})"
      ]
     },
     "execution_count": 15,
     "metadata": {},
     "output_type": "execute_result"
    }
   ],
   "source": [
    "Counter([tuple(r[\"resolution\"]) for r in all_laptops])"
   ]
  },
  {
   "cell_type": "markdown",
   "id": "fffe53f5-ad02-4bdf-a4fe-28e0cdf1b3c6",
   "metadata": {},
   "source": [
    "HD is `1360 x 768`, FHD is `1920 x 1080`,4k is `3840 x 2160`\n",
    "\n",
    "```\n",
    "Do you care about display quality?\n",
    "- not really (anything works)\n",
    "- somewhat (at least HD)\n",
    "- yes (at least Full HD)\n",
    "- very much (4k or better)\n",
    "```"
   ]
  },
  {
   "cell_type": "markdown",
   "id": "2d9615bf-80b8-4b1c-9f02-5262fba11118",
   "metadata": {},
   "source": [
    "#### RAM size"
   ]
  },
  {
   "cell_type": "code",
   "execution_count": 16,
   "id": "3cf6e528-a816-4050-846c-ea351f0d9031",
   "metadata": {},
   "outputs": [
    {
     "data": {
      "text/plain": [
       "Counter({8: 460, 16: 175, 4: 50, 2: 2, 32: 6})"
      ]
     },
     "execution_count": 16,
     "metadata": {},
     "output_type": "execute_result"
    }
   ],
   "source": [
    "Counter([r[\"ram\"] for r in catalog_final])"
   ]
  },
  {
   "cell_type": "markdown",
   "id": "4d503dac-68d0-4a54-baf5-3ab737859a5a",
   "metadata": {},
   "source": [
    "```\n",
    "RAM requirements?\n",
    "\n",
    "- Indifferent\n",
    "- At least 8 GB\n",
    "- At least 16 GB\n",
    "```"
   ]
  },
  {
   "cell_type": "markdown",
   "id": "bc4686d6-afdd-4d2b-bb52-97778ba43b50",
   "metadata": {},
   "source": [
    "#### Dedicated GPU"
   ]
  },
  {
   "cell_type": "code",
   "execution_count": 17,
   "id": "f994e13c-355a-46ec-8299-d4e2df1fa405",
   "metadata": {},
   "outputs": [
    {
     "data": {
      "text/plain": [
       "{'AMD', 'Integrated', 'NVIDIA', None}"
      ]
     },
     "execution_count": 17,
     "metadata": {},
     "output_type": "execute_result"
    }
   ],
   "source": [
    "set(r[\"gpu_make\"] for r in catalog_final)"
   ]
  },
  {
   "cell_type": "code",
   "execution_count": 18,
   "id": "d17ae30b-d986-40d7-9616-24cfa7fa74da",
   "metadata": {},
   "outputs": [
    {
     "data": {
      "text/plain": [
       "Counter({None: 449, 4: 154, 8: 12, 6: 42, 2: 32, 12: 1, 3: 3})"
      ]
     },
     "execution_count": 18,
     "metadata": {},
     "output_type": "execute_result"
    }
   ],
   "source": [
    "Counter([r[\"gpu_memory\"] for r in catalog_final])"
   ]
  },
  {
   "cell_type": "markdown",
   "id": "dca9d2af-3565-4f0d-a5d3-5873105bce55",
   "metadata": {},
   "source": [
    "```\n",
    "Do you have graphics heavy workload (gaming / design)?\n",
    "- Don't expect to\n",
    "- Sometimes (Dedicated GPU / Mac)\n",
    "- Regularly (> 4GB GPU memory / Macbook Pro)\n",
    "```"
   ]
  },
  {
   "cell_type": "markdown",
   "id": "293ecbd0-c398-4350-be61-67dfa4e1ea44",
   "metadata": {},
   "source": [
    "#### Warranty"
   ]
  },
  {
   "cell_type": "code",
   "execution_count": 19,
   "id": "c2b33ff9-243b-485d-b429-e87423fc2068",
   "metadata": {},
   "outputs": [
    {
     "data": {
      "text/plain": [
       "Counter({1: 678, 2: 12, 3: 3})"
      ]
     },
     "execution_count": 19,
     "metadata": {},
     "output_type": "execute_result"
    }
   ],
   "source": [
    "Counter([r[\"warranty\"] for r in catalog_final])"
   ]
  },
  {
   "cell_type": "markdown",
   "id": "0ea195f1-e1d8-4129-bae7-ead17f87e4d5",
   "metadata": {},
   "source": [
    "There is little variation among different laptops. We could skip this one. "
   ]
  },
  {
   "cell_type": "markdown",
   "id": "0fa98fbe-405f-4c03-86e5-687601f3d08a",
   "metadata": {},
   "source": [
    "#### Battery life"
   ]
  },
  {
   "cell_type": "code",
   "execution_count": 20,
   "id": "d565fd51-f85b-4e71-89a4-e21494126645",
   "metadata": {},
   "outputs": [
    {
     "data": {
      "text/plain": [
       "array([ 3. ,  5. ,  5. ,  5. ,  5. ,  5. ,  8. , 10. , 10. , 10.8])"
      ]
     },
     "execution_count": 20,
     "metadata": {},
     "output_type": "execute_result"
    }
   ],
   "source": [
    "np.percentile([r[\"battery\"] for r in catalog_final], np.linspace(0, 90, 10))"
   ]
  },
  {
   "cell_type": "markdown",
   "id": "821f2f82-29f7-4903-a6bb-08b0097e87ad",
   "metadata": {},
   "source": [
    "```\n",
    "How important is battery duration to you?\n",
    "\n",
    "- Not significant\n",
    "- Reasonably (At least 5 hours)\n",
    "- Very important (Should last >= 8 hours)\n",
    "```"
   ]
  },
  {
   "cell_type": "markdown",
   "id": "3e8514fe-81e4-4661-a687-ac42600dc381",
   "metadata": {},
   "source": [
    "#### Hard disk size"
   ]
  },
  {
   "cell_type": "code",
   "execution_count": 22,
   "id": "fde7d604-d38c-473c-aa95-93f8246b788d",
   "metadata": {},
   "outputs": [
    {
     "data": {
      "text/plain": [
       "Counter({None: 564, 1024: 122, 500: 6, 320: 1})"
      ]
     },
     "execution_count": 22,
     "metadata": {},
     "output_type": "execute_result"
    }
   ],
   "source": [
    "Counter([r[\"hdd\"] for r in catalog_final])"
   ]
  },
  {
   "cell_type": "code",
   "execution_count": 23,
   "id": "93185a41-0708-4e70-b85b-4481d091fe90",
   "metadata": {},
   "outputs": [
    {
     "data": {
      "text/plain": [
       "Counter({256: 180, 512: 388, None: 37, 128: 13, 1024: 67, 32: 2, 16: 4, 64: 2})"
      ]
     },
     "execution_count": 23,
     "metadata": {},
     "output_type": "execute_result"
    }
   ],
   "source": [
    "Counter([r[\"sdd\"] for r in catalog_final])"
   ]
  },
  {
   "cell_type": "markdown",
   "id": "b6e6ef6b-2c58-4b86-b372-4873a8086ed8",
   "metadata": {},
   "source": [
    "Most laptops seem to have an SSD; we could just count the total disk space. "
   ]
  },
  {
   "cell_type": "code",
   "execution_count": 26,
   "id": "074c0d7f-991c-4a6b-97d2-b5f2b9f5ee99",
   "metadata": {},
   "outputs": [
    {
     "data": {
      "text/plain": [
       "Counter({256: 95,\n",
       "         512: 386,\n",
       "         1280: 85,\n",
       "         1024: 97,\n",
       "         128: 8,\n",
       "         1536: 2,\n",
       "         32: 2,\n",
       "         16: 4,\n",
       "         64: 2,\n",
       "         1152: 5,\n",
       "         500: 6,\n",
       "         320: 1})"
      ]
     },
     "execution_count": 26,
     "metadata": {},
     "output_type": "execute_result"
    }
   ],
   "source": [
    "def summ(x, y):\n",
    "    if x is None:\n",
    "        return y\n",
    "    elif y is None:\n",
    "        return x\n",
    "    else:\n",
    "        return x + y\n",
    "\n",
    "\n",
    "Counter([summ(r[\"hdd\"], r[\"sdd\"]) for r in catalog_final])"
   ]
  },
  {
   "cell_type": "markdown",
   "id": "d3f1107c-a7eb-4176-aac3-54f2599e3e68",
   "metadata": {},
   "source": [
    "```\n",
    "Do you need a lot of local storage?\n",
    "\n",
    "- Not a factor\n",
    "- Yes (>= 500 GB)\n",
    "- Very important (>= 1000 GB)\n",
    "```"
   ]
  },
  {
   "cell_type": "markdown",
   "id": "f13788f8-aa03-4e4c-af49-3bc326ad4dff",
   "metadata": {},
   "source": [
    "## Order of questions"
   ]
  },
  {
   "cell_type": "markdown",
   "id": "98a70ca1-65af-45cf-bacd-cfd1648dfa87",
   "metadata": {},
   "source": [
    "We have 8 questions in total. \n",
    "\n",
    "The first 2 questions are posed to everyone. **Operating system could make Q1, price would make Q2** since asking for it outright feels limiting. Also, the distribution of prices would be very different say if the user wants a Macbook vs not having a preference. \n",
    "\n",
    "Following that, we can evaluate each question by how much it helps reduce the search space, conditional on the size of catalog until then. We could keep going until only a few items remain or we hit 5/6 questions in total. "
   ]
  },
  {
   "cell_type": "code",
   "execution_count": null,
   "id": "2589d328-baf3-422b-bc3c-a3e1ec911bf8",
   "metadata": {},
   "outputs": [],
   "source": []
  }
 ],
 "metadata": {
  "kernelspec": {
   "display_name": "Python 3 (ipykernel)",
   "language": "python",
   "name": "python3"
  },
  "language_info": {
   "codemirror_mode": {
    "name": "ipython",
    "version": 3
   },
   "file_extension": ".py",
   "mimetype": "text/x-python",
   "name": "python",
   "nbconvert_exporter": "python",
   "pygments_lexer": "ipython3",
   "version": "3.9.5"
  }
 },
 "nbformat": 4,
 "nbformat_minor": 5
}
